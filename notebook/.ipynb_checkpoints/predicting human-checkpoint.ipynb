{
 "cells": [
  {
   "cell_type": "code",
   "execution_count": 8,
   "id": "hollow-criterion",
   "metadata": {},
   "outputs": [],
   "source": [
    "from sklearn.linear_model import LinearRegression\n",
    "import pandas as pd\n",
    "from sklearn.model_selection import KFold\n",
    "from sklearn.model_selection import cross_val_score\n",
    "import numpy as np\n",
    "from sklearn.model_selection import train_test_split\n",
    "from sklearn.linear_model import Ridge\n",
    "from sklearn.linear_model import Lasso\n",
    "from sklearn.linear_model import LogisticRegression"
   ]
  },
  {
   "cell_type": "markdown",
   "id": "still-strap",
   "metadata": {},
   "source": [
    "# 0. Data preparation"
   ]
  },
  {
   "cell_type": "code",
   "execution_count": 16,
   "id": "opposed-republican",
   "metadata": {},
   "outputs": [],
   "source": [
    "threshold = 0.5"
   ]
  },
  {
   "cell_type": "markdown",
   "id": "marine-brand",
   "metadata": {},
   "source": [
    "## 0.1 PDTC"
   ]
  },
  {
   "cell_type": "code",
   "execution_count": 12,
   "id": "impressed-watson",
   "metadata": {},
   "outputs": [],
   "source": [
    "response_pdtc = pd.read_csv('../data/DrugResponsesAUCModels.txt', sep='\\t')"
   ]
  },
  {
   "cell_type": "code",
   "execution_count": 14,
   "id": "detailed-school",
   "metadata": {},
   "outputs": [],
   "source": [
    "fingerprint_pdtc = pd.read_csv('../data/fingerprint.txt', sep = \"\\t\", header=None)\n",
    "fingerprint_pdtc.index = fingerprint_pdtc[0].tolist()\n",
    "fingerprint_pdtc.drop(0, axis=1, inplace=True)"
   ]
  },
  {
   "cell_type": "code",
   "execution_count": 15,
   "id": "dominant-certification",
   "metadata": {},
   "outputs": [],
   "source": [
    "expression_pdtc = pd.read_csv('../data/ML_input_files/pdtc_L1000.csv')\n",
    "expression_pdtc.index = expression_pdtc['Gene'].tolist()\n",
    "expression_pdtc.drop('Gene', axis=1, inplace=True)"
   ]
  },
  {
   "cell_type": "code",
   "execution_count": 17,
   "id": "corporate-delight",
   "metadata": {},
   "outputs": [],
   "source": [
    "X_pdtc = []\n",
    "Y_pdtc = []\n",
    "Y_pdtc_binary = []\n",
    "for idx, line in response_pdtc.iterrows():\n",
    "    if line[1] in fingerprint_pdtc.index:\n",
    "        X_pdtc.append(expression_pdtc[line[0]].tolist() + fingerprint_pdtc.loc[line[1]].tolist())\n",
    "        Y_pdtc.append(line[2])\n",
    "        if line[2] < threshold:\n",
    "            Y_pdtc_binary.append('response')\n",
    "        else:\n",
    "            Y_pdtc_binary.append('non-response')"
   ]
  },
  {
   "cell_type": "markdown",
   "id": "focused-clock",
   "metadata": {},
   "source": [
    "## 0.2 CCLE"
   ]
  },
  {
   "cell_type": "code",
   "execution_count": 20,
   "id": "mathematical-sugar",
   "metadata": {},
   "outputs": [],
   "source": [
    "response_ccle = pd.read_csv('../data/secondary-screen-dose-response-curve-parameters_abstract_breast_modified.csv')"
   ]
  },
  {
   "cell_type": "code",
   "execution_count": 21,
   "id": "insured-determination",
   "metadata": {},
   "outputs": [],
   "source": [
    "fingerprint_ccle = pd.read_csv('../data/ccle_fingerprint_only.txt', sep = \"\\t\", header=None)\n",
    "fingerprint_ccle.index = fingerprint_ccle[0].tolist()\n",
    "fingerprint_ccle.drop(0, axis=1, inplace=True)"
   ]
  },
  {
   "cell_type": "code",
   "execution_count": 22,
   "id": "juvenile-advertiser",
   "metadata": {},
   "outputs": [],
   "source": [
    "def return_fingerprint(smiles):\n",
    "    out = np.fromstring(fingerprint_ccle.loc[smiles].values[0][1:-1], dtype=int, sep='\\t')\n",
    "    return out"
   ]
  },
  {
   "cell_type": "code",
   "execution_count": 23,
   "id": "heated-whole",
   "metadata": {},
   "outputs": [],
   "source": [
    "expression_ccle = pd.read_csv('../data/ML_input_files/cell_line_L1000.csv')\n",
    "expression_ccle.index = expression_ccle['Unnamed: 0'].tolist()\n",
    "expression_ccle.drop('Unnamed: 0', axis=1, inplace=True)"
   ]
  },
  {
   "cell_type": "code",
   "execution_count": 24,
   "id": "angry-yacht",
   "metadata": {},
   "outputs": [],
   "source": [
    "X_ccle = []\n",
    "Y_ccle = []\n",
    "Y_ccle_binary = []\n",
    "for idx, line in response_ccle.iterrows():\n",
    "    if line[3] in fingerprint_ccle.index:\n",
    "        X_ccle.append(expression_ccle[line[2]].tolist() + return_fingerprint(line[3]).tolist())\n",
    "        Y_ccle.append(line[4])\n",
    "        if line[4] < threshold:\n",
    "            Y_ccle_binary.append('response')\n",
    "        else:\n",
    "            Y_ccle_binary.append('non-response')"
   ]
  },
  {
   "cell_type": "markdown",
   "id": "filled-divide",
   "metadata": {},
   "source": [
    "## 0.3 TCGA"
   ]
  },
  {
   "cell_type": "code",
   "execution_count": 25,
   "id": "compliant-mozambique",
   "metadata": {},
   "outputs": [],
   "source": [
    "response_tcga = pd.read_csv('../data/clinical_table.csv')"
   ]
  },
  {
   "cell_type": "markdown",
   "id": "prescribed-kansas",
   "metadata": {},
   "source": [
    "# 1. Logistic Regression"
   ]
  },
  {
   "cell_type": "markdown",
   "id": "arbitrary-electric",
   "metadata": {},
   "source": [
    "## 1.1 PDTC -> TCGA"
   ]
  },
  {
   "cell_type": "code",
   "execution_count": 18,
   "id": "eleven-armor",
   "metadata": {},
   "outputs": [],
   "source": [
    "X_train, X_test, Y_train, Y_test = train_test_split(X_pdtc, Y_pdtc_binary, test_size=0.2)"
   ]
  },
  {
   "cell_type": "code",
   "execution_count": 19,
   "id": "metropolitan-knowing",
   "metadata": {},
   "outputs": [
    {
     "name": "stderr",
     "output_type": "stream",
     "text": [
      "C:\\Users\\sbi-student\\anaconda3\\envs\\torch_jupyter\\lib\\site-packages\\sklearn\\linear_model\\_logistic.py:763: ConvergenceWarning: lbfgs failed to converge (status=1):\n",
      "STOP: TOTAL NO. of ITERATIONS REACHED LIMIT.\n",
      "\n",
      "Increase the number of iterations (max_iter) or scale the data as shown in:\n",
      "    https://scikit-learn.org/stable/modules/preprocessing.html\n",
      "Please also refer to the documentation for alternative solver options:\n",
      "    https://scikit-learn.org/stable/modules/linear_model.html#logistic-regression\n",
      "  n_iter_i = _check_optimize_result(\n"
     ]
    },
    {
     "data": {
      "text/plain": [
       "0.9233128834355828"
      ]
     },
     "execution_count": 19,
     "metadata": {},
     "output_type": "execute_result"
    }
   ],
   "source": [
    "reg = LogisticRegression()\n",
    "reg.fit(X_train, Y_train)\n",
    "scores = reg.score(X_test, Y_test) # mean accuracy\n",
    "scores"
   ]
  },
  {
   "cell_type": "code",
   "execution_count": null,
   "id": "incoming-patrick",
   "metadata": {},
   "outputs": [],
   "source": []
  }
 ],
 "metadata": {
  "kernelspec": {
   "display_name": "Python 3",
   "language": "python",
   "name": "python3"
  },
  "language_info": {
   "codemirror_mode": {
    "name": "ipython",
    "version": 3
   },
   "file_extension": ".py",
   "mimetype": "text/x-python",
   "name": "python",
   "nbconvert_exporter": "python",
   "pygments_lexer": "ipython3",
   "version": "3.8.6"
  }
 },
 "nbformat": 4,
 "nbformat_minor": 5
}
