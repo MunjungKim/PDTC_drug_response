{
 "cells": [
  {
   "cell_type": "code",
   "execution_count": 23,
   "id": "bound-glucose",
   "metadata": {},
   "outputs": [],
   "source": [
    "from sklearn.linear_model import LinearRegression\n",
    "import pandas as pd\n",
    "from sklearn.model_selection import KFold\n",
    "from sklearn.model_selection import cross_val_score\n",
    "import numpy as np\n",
    "from sklearn.model_selection import train_test_split\n",
    "from sklearn.linear_model import Ridge\n",
    "from sklearn.linear_model import Lasso\n",
    "from sklearn.linear_model import LogisticRegression\n",
    "from sklearn.metrics import balanced_accuracy_score\n",
    "from sklearn.metrics import f1_score\n",
    "from sklearn.metrics import precision_recall_curve\n",
    "from sklearn.metrics import auc"
   ]
  },
  {
   "cell_type": "markdown",
   "id": "difficult-sharing",
   "metadata": {},
   "source": [
    "# 0. Data preparation"
   ]
  },
  {
   "cell_type": "markdown",
   "id": "widespread-lesbian",
   "metadata": {},
   "source": [
    "## 0.1 PDTC"
   ]
  },
  {
   "cell_type": "code",
   "execution_count": 2,
   "id": "brown-favor",
   "metadata": {},
   "outputs": [],
   "source": [
    "response_pdtc = pd.read_csv('../data/DrugResponsesAUCModels.txt', sep='\\t')\n",
    "threshold_pdtc = response_pdtc['AUC'].median()"
   ]
  },
  {
   "cell_type": "code",
   "execution_count": 3,
   "id": "subsequent-peace",
   "metadata": {},
   "outputs": [],
   "source": [
    "fingerprint_pdtc = pd.read_csv('../data/fingerprint.txt', sep = \"\\t\", header=None)\n",
    "fingerprint_pdtc.index = fingerprint_pdtc[0].tolist()\n",
    "fingerprint_pdtc.drop(0, axis=1, inplace=True)"
   ]
  },
  {
   "cell_type": "code",
   "execution_count": 4,
   "id": "increasing-consent",
   "metadata": {},
   "outputs": [],
   "source": [
    "expression_pdtc = pd.read_csv('../data/with_human/pdtc_L1000.csv')\n",
    "expression_pdtc.index = expression_pdtc['Gene'].tolist()\n",
    "expression_pdtc.drop('Gene', axis=1, inplace=True)"
   ]
  },
  {
   "cell_type": "code",
   "execution_count": 5,
   "id": "numerical-chapel",
   "metadata": {},
   "outputs": [],
   "source": [
    "X_pdtc = []\n",
    "Y_pdtc = []\n",
    "Y_pdtc_binary = []\n",
    "for idx, line in response_pdtc.iterrows():\n",
    "    if line[1] in fingerprint_pdtc.index:\n",
    "        X_pdtc.append(expression_pdtc[line[0]].tolist() + fingerprint_pdtc.loc[line[1]].tolist())\n",
    "        Y_pdtc.append(line[2])\n",
    "        if line[2] < threshold_pdtc:\n",
    "            Y_pdtc_binary.append('response')\n",
    "        else:\n",
    "            Y_pdtc_binary.append('non-response')"
   ]
  },
  {
   "cell_type": "markdown",
   "id": "otherwise-bradford",
   "metadata": {},
   "source": [
    "## 0.2 CCLE"
   ]
  },
  {
   "cell_type": "code",
   "execution_count": 6,
   "id": "understanding-pottery",
   "metadata": {},
   "outputs": [],
   "source": [
    "response_ccle = pd.read_csv('../data/secondary-screen-dose-response-curve-parameters_abstract_breast_modified.csv')\n",
    "threshold_ccle = response_ccle['auc'].median()"
   ]
  },
  {
   "cell_type": "code",
   "execution_count": 7,
   "id": "innovative-distributor",
   "metadata": {},
   "outputs": [],
   "source": [
    "fingerprint_ccle = pd.read_csv('../data/ccle_fingerprint_only.txt', sep = \"\\t\", header=None)\n",
    "fingerprint_ccle.index = fingerprint_ccle[0].tolist()\n",
    "fingerprint_ccle.drop(0, axis=1, inplace=True)"
   ]
  },
  {
   "cell_type": "code",
   "execution_count": 8,
   "id": "precise-andrew",
   "metadata": {},
   "outputs": [],
   "source": [
    "def return_fingerprint(smiles):\n",
    "    out = np.fromstring(fingerprint_ccle.loc[smiles].values[0][1:-1], dtype=int, sep='\\t')\n",
    "    return out"
   ]
  },
  {
   "cell_type": "code",
   "execution_count": 9,
   "id": "indian-share",
   "metadata": {},
   "outputs": [],
   "source": [
    "expression_ccle = pd.read_csv('../data/with_human/cell_line_L1000.csv')\n",
    "expression_ccle.index = expression_ccle['Unnamed: 0'].tolist()\n",
    "expression_ccle.drop('Unnamed: 0', axis=1, inplace=True)"
   ]
  },
  {
   "cell_type": "code",
   "execution_count": 10,
   "id": "third-disorder",
   "metadata": {},
   "outputs": [],
   "source": [
    "X_ccle = []\n",
    "Y_ccle = []\n",
    "Y_ccle_binary = []\n",
    "for idx, line in response_ccle.iterrows():\n",
    "    if line[3] in fingerprint_ccle.index:\n",
    "        X_ccle.append(expression_ccle[line[2]].tolist() + return_fingerprint(line[3]).tolist())\n",
    "        Y_ccle.append(line[4])\n",
    "        if line[4] < threshold_ccle:\n",
    "            Y_ccle_binary.append('response')\n",
    "        else:\n",
    "            Y_ccle_binary.append('non-response')"
   ]
  },
  {
   "cell_type": "markdown",
   "id": "bigger-midwest",
   "metadata": {},
   "source": [
    "## 0.3 TCGA"
   ]
  },
  {
   "cell_type": "code",
   "execution_count": 11,
   "id": "individual-light",
   "metadata": {},
   "outputs": [],
   "source": [
    "response_tcga = pd.read_csv('../data/tcga_response_exist_conversion.csv', sep='\\t')\n",
    "response_tcga.drop('Unnamed: 0', axis=1, inplace=True)"
   ]
  },
  {
   "cell_type": "code",
   "execution_count": 12,
   "id": "unsigned-snowboard",
   "metadata": {},
   "outputs": [],
   "source": [
    "fingerprint_tcga = pd.read_csv('../data/tcga_fingerprint.txt', sep='\\t', header=None)\n",
    "fingerprint_tcga.index = fingerprint_tcga[0].tolist()\n",
    "fingerprint_tcga.drop(0, axis=1, inplace=True)"
   ]
  },
  {
   "cell_type": "code",
   "execution_count": 13,
   "id": "backed-death",
   "metadata": {},
   "outputs": [],
   "source": [
    "expression_tcga = pd.read_csv('../data/with_human/tcga_L1000.csv')\n",
    "expression_tcga.index = expression_tcga['genes'].tolist()\n",
    "expression_tcga.drop('genes', axis=1, inplace=True)"
   ]
  },
  {
   "cell_type": "code",
   "execution_count": 14,
   "id": "least-forty",
   "metadata": {},
   "outputs": [],
   "source": [
    "X_tcga = []\n",
    "Y_tcga_binary = []\n",
    "for idx, line in response_tcga.iterrows():\n",
    "    if line[1] in fingerprint_tcga.index:\n",
    "        for patient_code in expression_tcga.columns:\n",
    "            if patient_code[:12] == line[0]:\n",
    "                X_tcga.append(expression_tcga[patient_code].tolist() + fingerprint_tcga.loc[line[1]].tolist())\n",
    "                if line[2] == 'Complete Response' or line[2] == 'Partial Response':\n",
    "                    Y_tcga_binary.append('response')\n",
    "                else:\n",
    "                    Y_tcga_binary.append('non-response')\n",
    "                break"
   ]
  },
  {
   "cell_type": "markdown",
   "id": "dressed-combine",
   "metadata": {},
   "source": [
    "# 1. Logistic Regression"
   ]
  },
  {
   "cell_type": "markdown",
   "id": "perfect-painting",
   "metadata": {},
   "source": [
    "## 1.1 PDTC -> TCGA"
   ]
  },
  {
   "cell_type": "code",
   "execution_count": 24,
   "id": "waiting-scholarship",
   "metadata": {},
   "outputs": [],
   "source": [
    "X_train, X_test, Y_train, Y_test = train_test_split(X_pdtc, Y_pdtc_binary, test_size=0.2)"
   ]
  },
  {
   "cell_type": "code",
   "execution_count": 25,
   "id": "white-blanket",
   "metadata": {},
   "outputs": [
    {
     "name": "stderr",
     "output_type": "stream",
     "text": [
      "C:\\Users\\sbi-student\\anaconda3\\envs\\torch_jupyter\\lib\\site-packages\\sklearn\\linear_model\\_logistic.py:763: ConvergenceWarning: lbfgs failed to converge (status=1):\n",
      "STOP: TOTAL NO. of ITERATIONS REACHED LIMIT.\n",
      "\n",
      "Increase the number of iterations (max_iter) or scale the data as shown in:\n",
      "    https://scikit-learn.org/stable/modules/preprocessing.html\n",
      "Please also refer to the documentation for alternative solver options:\n",
      "    https://scikit-learn.org/stable/modules/linear_model.html#logistic-regression\n",
      "  n_iter_i = _check_optimize_result(\n"
     ]
    },
    {
     "data": {
      "text/plain": [
       "0.7852760736196319"
      ]
     },
     "execution_count": 25,
     "metadata": {},
     "output_type": "execute_result"
    }
   ],
   "source": [
    "reg = LogisticRegression()\n",
    "reg.fit(X_train, Y_train)\n",
    "scores = reg.score(X_test, Y_test) # mean accuracy\n",
    "scores"
   ]
  },
  {
   "cell_type": "code",
   "execution_count": 38,
   "id": "intensive-shift",
   "metadata": {
    "scrolled": true
   },
   "outputs": [
    {
     "name": "stdout",
     "output_type": "stream",
     "text": [
      "accuracy : 0.645000\n",
      "balanced accuracy : 0.525984\n",
      "F1 score : 0.770227\n",
      "AUC of PR-curve : 0.872809\n"
     ]
    }
   ],
   "source": [
    "predict = reg.predict(X_tcga)\n",
    "predict_proba = reg.predict_proba(X_tcga)\n",
    "accuracy = reg.score(X_tcga, Y_tcga_binary)\n",
    "balanced_accuracy = balanced_accuracy_score(Y_tcga_binary, predict)\n",
    "F1_score = f1_score(Y_tcga_binary, predict, pos_label='response')\n",
    "precision, recall, thresholds = precision_recall_curve(Y_tcga_binary, predict_proba[:,0], pos_label='response')\n",
    "AUC = auc(recall, precision)\n",
    "print('accuracy : %f\\nbalanced accuracy : %f\\nF1 score : %f\\nAUC of PR-curve : %f' % (accuracy, balanced_accuracy, F1_score, AUC))"
   ]
  },
  {
   "cell_type": "code",
   "execution_count": 41,
   "id": "posted-pakistan",
   "metadata": {},
   "outputs": [
    {
     "name": "stdout",
     "output_type": "stream",
     "text": [
      "0.6047349877622176\n",
      "0.3952650122377824\n"
     ]
    }
   ],
   "source": [
    "predict_proba = reg.predict_proba(X_tcga)\n",
    "print(predict_proba[:,1].mean())\n",
    "print(predict_proba[:,0].mean())"
   ]
  },
  {
   "cell_type": "code",
   "execution_count": 45,
   "id": "offensive-month",
   "metadata": {},
   "outputs": [
    {
     "data": {
      "text/plain": [
       "array([0.86166667, 0.86143573, 0.86120401, 0.86097152, 0.86073826,\n",
       "       0.8605042 , 0.86026936, 0.86003373, 0.8597973 , 0.85956007,\n",
       "       0.85932203, 0.85908319, 0.85884354, 0.85860307, 0.85836177,\n",
       "       0.85811966, 0.85787671, 0.85763293, 0.85738832, 0.85714286,\n",
       "       0.85689655, 0.85837651, 0.85813149, 0.85788562, 0.85763889,\n",
       "       0.85913043, 0.85888502, 0.85863874, 0.85839161, 0.85814361,\n",
       "       0.85789474, 0.85764499, 0.85739437, 0.85714286, 0.85689046,\n",
       "       0.85663717, 0.85638298, 0.85612789, 0.85587189, 0.85561497,\n",
       "       0.85535714, 0.8568873 , 0.85663082, 0.85637343, 0.85791367,\n",
       "       0.85765766, 0.85740072, 0.85714286, 0.85869565, 0.8584392 ,\n",
       "       0.85818182, 0.8579235 , 0.85766423, 0.85923218, 0.85897436,\n",
       "       0.86055046, 0.86187845, 0.86162362, 0.86321627, 0.86296296,\n",
       "       0.86270872, 0.86245353, 0.86219739, 0.86380597, 0.8635514 ,\n",
       "       0.86329588, 0.8630394 , 0.86466165, 0.86440678, 0.86415094,\n",
       "       0.86389414, 0.86363636, 0.86337761, 0.86311787, 0.86285714,\n",
       "       0.86259542, 0.86424474, 0.86590038, 0.86756238, 0.86730769,\n",
       "       0.86705202, 0.86679537, 0.86653772, 0.86627907, 0.86601942,\n",
       "       0.86575875, 0.86744639, 0.86914062, 0.86888454, 0.86862745,\n",
       "       0.86836935, 0.87007874, 0.86982249, 0.86956522, 0.86930693,\n",
       "       0.86904762, 0.86878728, 0.8685259 , 0.86826347, 0.868     ,\n",
       "       0.86773547, 0.86746988, 0.86921529, 0.86895161, 0.86868687,\n",
       "       0.86842105, 0.86815416, 0.86788618, 0.86761711, 0.86938776,\n",
       "       0.86912065, 0.86858316, 0.86831276, 0.86804124, 0.8677686 ,\n",
       "       0.86749482, 0.86721992, 0.86902287, 0.86875   , 0.86847599,\n",
       "       0.87029289, 0.87002096, 0.8697479 , 0.86947368, 0.86919831,\n",
       "       0.86892178, 0.86864407, 0.86836518, 0.86808511, 0.86780384,\n",
       "       0.86752137, 0.86723769, 0.86695279, 0.86666667, 0.86637931,\n",
       "       0.86609071, 0.86580087, 0.86550976, 0.86521739, 0.86492375,\n",
       "       0.86681223, 0.86652079, 0.86622807, 0.86593407, 0.86563877,\n",
       "       0.86534216, 0.86504425, 0.86474501, 0.86444444, 0.86636971,\n",
       "       0.86607143, 0.86577181, 0.86547085, 0.86516854, 0.86486486,\n",
       "       0.86455982, 0.86425339, 0.86394558, 0.86363636, 0.86332574,\n",
       "       0.8652968 , 0.86498856, 0.8646789 , 0.86436782, 0.86635945,\n",
       "       0.86605081, 0.86574074, 0.86774942, 0.86976744, 0.86946387,\n",
       "       0.86915888, 0.86885246, 0.8685446 , 0.86823529, 0.86792453,\n",
       "       0.86761229, 0.86729858, 0.86698337, 0.86666667, 0.86873508,\n",
       "       0.86842105, 0.86810552, 0.86778846, 0.86746988, 0.86714976,\n",
       "       0.86682809, 0.86650485, 0.86618005, 0.86585366, 0.86552567,\n",
       "       0.86519608, 0.86486486, 0.86699507, 0.86666667, 0.86881188,\n",
       "       0.86848635, 0.8681592 , 0.86783042, 0.8675    , 0.86716792,\n",
       "       0.86683417, 0.86649874, 0.86616162, 0.86582278, 0.86548223,\n",
       "       0.86768448, 0.86734694, 0.86956522, 0.86923077, 0.8688946 ,\n",
       "       0.8685567 , 0.87080103, 0.87046632, 0.87012987, 0.86979167,\n",
       "       0.8694517 , 0.86910995, 0.8687664 , 0.87105263, 0.8707124 ,\n",
       "       0.87037037, 0.87002653, 0.86968085, 0.872     , 0.87165775,\n",
       "       0.87399464, 0.87365591, 0.87331536, 0.87297297, 0.87262873,\n",
       "       0.87228261, 0.8719346 , 0.8715847 , 0.87123288, 0.87087912,\n",
       "       0.87052342, 0.87016575, 0.86980609, 0.86944444, 0.86908078,\n",
       "       0.86871508, 0.86834734, 0.86797753, 0.86760563, 0.86723164,\n",
       "       0.86968839, 0.86931818, 0.86894587, 0.86857143, 0.86819484,\n",
       "       0.86781609, 0.86743516, 0.86705202, 0.86956522, 0.86918605,\n",
       "       0.86880466, 0.86842105, 0.86803519, 0.86764706, 0.86725664,\n",
       "       0.86686391, 0.86646884, 0.86607143, 0.86567164, 0.86526946,\n",
       "       0.86486486, 0.86445783, 0.86404834, 0.86363636, 0.86322188,\n",
       "       0.86280488, 0.86238532, 0.86196319, 0.86153846, 0.86111111,\n",
       "       0.86068111, 0.85981308, 0.859375  , 0.85893417, 0.85849057,\n",
       "       0.85804416, 0.85759494, 0.85714286, 0.8566879 , 0.85623003,\n",
       "       0.85576923, 0.85530547, 0.85483871, 0.85436893, 0.8538961 ,\n",
       "       0.8534202 , 0.85294118, 0.85245902, 0.85526316, 0.85478548,\n",
       "       0.85430464, 0.8538206 , 0.85333333, 0.85284281, 0.85234899,\n",
       "       0.85185185, 0.85135135, 0.85084746, 0.85034014, 0.84982935,\n",
       "       0.85273973, 0.85223368, 0.85172414, 0.85121107, 0.85069444,\n",
       "       0.85017422, 0.84965035, 0.84912281, 0.84859155, 0.84805654,\n",
       "       0.84751773, 0.84697509, 0.85      , 0.84946237, 0.84892086,\n",
       "       0.84837545, 0.84782609, 0.84727273, 0.84671533, 0.84615385,\n",
       "       0.84558824, 0.84501845, 0.84444444, 0.84386617, 0.84328358,\n",
       "       0.84269663, 0.84210526, 0.84150943, 0.84090909, 0.84030418,\n",
       "       0.83969466, 0.83908046, 0.83846154, 0.83783784, 0.8372093 ,\n",
       "       0.83657588, 0.8359375 , 0.83529412, 0.83464567, 0.83399209,\n",
       "       0.83333333, 0.83266932, 0.832     , 0.8313253 , 0.83064516,\n",
       "       0.82995951, 0.82926829, 0.82857143, 0.82786885, 0.82716049,\n",
       "       0.82644628, 0.82987552, 0.82916667, 0.82845188, 0.82773109,\n",
       "       0.82700422, 0.83050847, 0.82978723, 0.83333333, 0.83261803,\n",
       "       0.83189655, 0.83549784, 0.83478261, 0.83406114, 0.8377193 ,\n",
       "       0.84140969, 0.84070796, 0.84      , 0.83928571, 0.83856502,\n",
       "       0.83783784, 0.84162896, 0.84090909, 0.84018265, 0.83944954,\n",
       "       0.83870968, 0.84259259, 0.84186047, 0.8411215 , 0.84037559,\n",
       "       0.83962264, 0.8436019 , 0.84285714, 0.84210526, 0.84134615,\n",
       "       0.84057971, 0.83980583, 0.83902439, 0.83823529, 0.83743842,\n",
       "       0.83663366, 0.84079602, 0.84      , 0.83919598, 0.83838384,\n",
       "       0.84693878, 0.84615385, 0.84536082, 0.84455959, 0.84375   ,\n",
       "       0.84293194, 0.84210526, 0.84126984, 0.84042553, 0.83957219,\n",
       "       0.83870968, 0.83783784, 0.83695652, 0.83606557, 0.83516484,\n",
       "       0.83425414, 0.83333333, 0.84269663, 0.84180791, 0.84090909,\n",
       "       0.84      , 0.83908046, 0.83815029, 0.85798817, 0.85714286,\n",
       "       0.85542169, 0.85454545, 0.85365854, 0.85276074, 0.85185185,\n",
       "       0.85093168, 0.85      , 0.85534591, 0.85443038, 0.85350318,\n",
       "       0.8525641 , 0.8516129 , 0.85714286, 0.8627451 , 0.86184211,\n",
       "       0.86092715, 0.86      , 0.86577181, 0.87162162, 0.87755102,\n",
       "       0.87671233, 0.87586207, 0.875     , 0.87412587, 0.87323944,\n",
       "       0.87234043, 0.87142857, 0.8705036 , 0.87681159, 0.88321168,\n",
       "       0.88235294, 0.88888889, 0.8880597 , 0.89473684, 0.89393939,\n",
       "       0.89312977, 0.89230769, 0.89922481, 0.8984375 , 0.8976378 ,\n",
       "       0.8968254 , 0.896     , 0.89516129, 0.89430894, 0.89344262,\n",
       "       0.89256198, 0.89166667, 0.8907563 , 0.88983051, 0.8974359 ,\n",
       "       0.90517241, 0.90434783, 0.90350877, 0.90265487, 0.90178571,\n",
       "       0.9009009 , 0.9       , 0.89908257, 0.90740741, 0.90654206,\n",
       "       0.90566038, 0.91428571, 0.92307692, 0.9223301 , 0.92156863,\n",
       "       0.92079208, 0.93      , 0.92929293, 0.92857143, 0.92783505,\n",
       "       0.92708333, 0.92631579, 0.92553191, 0.92473118, 0.92391304,\n",
       "       0.92307692, 0.92222222, 0.93258427, 0.93181818, 0.93103448,\n",
       "       0.93023256, 0.92941176, 0.92857143, 0.92771084, 0.92682927,\n",
       "       0.92592593, 0.925     , 0.92405063, 0.92307692, 0.92207792,\n",
       "       0.92105263, 0.92      , 0.91891892, 0.91780822, 0.91666667,\n",
       "       0.91549296, 0.91428571, 0.91304348, 0.91176471, 0.91044776,\n",
       "       0.90909091, 0.90769231, 0.90625   , 0.9047619 , 0.91935484,\n",
       "       0.91803279, 0.93333333, 0.93220339, 0.93103448, 0.92982456,\n",
       "       0.92857143, 0.92727273, 0.92592593, 0.9245283 , 0.92307692,\n",
       "       0.92156863, 0.92      , 0.91836735, 0.91666667, 0.91489362,\n",
       "       0.91304348, 0.91111111, 0.90909091, 0.90697674, 0.9047619 ,\n",
       "       0.90243902, 0.9       , 0.8974359 , 0.89473684, 0.89189189,\n",
       "       0.88888889, 0.88571429, 0.88235294, 0.87878788, 0.90625   ,\n",
       "       0.90322581, 0.9       , 0.89655172, 0.89285714, 0.92592593,\n",
       "       0.92307692, 0.91666667, 0.91304348, 0.90909091, 0.9047619 ,\n",
       "       0.9       , 0.89473684, 0.88888889, 0.88235294, 0.9375    ,\n",
       "       1.        , 1.        , 1.        , 1.        , 1.        ,\n",
       "       1.        , 1.        , 1.        , 1.        , 1.        ,\n",
       "       1.        , 1.        , 1.        , 1.        , 1.        ])"
      ]
     },
     "execution_count": 45,
     "metadata": {},
     "output_type": "execute_result"
    }
   ],
   "source": [
    "precision"
   ]
  },
  {
   "cell_type": "markdown",
   "id": "compliant-jason",
   "metadata": {},
   "source": [
    "## 1.2 CCLE -> TCGA"
   ]
  },
  {
   "cell_type": "code",
   "execution_count": 20,
   "id": "surprising-classic",
   "metadata": {},
   "outputs": [],
   "source": [
    "X_train, X_test, Y_train, Y_test = train_test_split(X_ccle, Y_ccle_binary, test_size=0.2)"
   ]
  },
  {
   "cell_type": "code",
   "execution_count": 21,
   "id": "gothic-drinking",
   "metadata": {},
   "outputs": [
    {
     "name": "stderr",
     "output_type": "stream",
     "text": [
      "C:\\Users\\sbi-student\\anaconda3\\envs\\torch_jupyter\\lib\\site-packages\\sklearn\\linear_model\\_logistic.py:763: ConvergenceWarning: lbfgs failed to converge (status=1):\n",
      "STOP: TOTAL NO. of ITERATIONS REACHED LIMIT.\n",
      "\n",
      "Increase the number of iterations (max_iter) or scale the data as shown in:\n",
      "    https://scikit-learn.org/stable/modules/preprocessing.html\n",
      "Please also refer to the documentation for alternative solver options:\n",
      "    https://scikit-learn.org/stable/modules/linear_model.html#logistic-regression\n",
      "  n_iter_i = _check_optimize_result(\n"
     ]
    },
    {
     "data": {
      "text/plain": [
       "0.6844346317615518"
      ]
     },
     "execution_count": 21,
     "metadata": {},
     "output_type": "execute_result"
    }
   ],
   "source": [
    "reg = LogisticRegression()\n",
    "reg.fit(X_train, Y_train)\n",
    "scores = reg.score(X_test, Y_test) # mean accuracy\n",
    "scores"
   ]
  },
  {
   "cell_type": "code",
   "execution_count": 22,
   "id": "pointed-biology",
   "metadata": {
    "scrolled": true
   },
   "outputs": [
    {
     "name": "stdout",
     "output_type": "stream",
     "text": [
      "accuracy : 0.485000\n",
      "balanced accuracy : 0.483710\n",
      "F1 score : -1.000000\n"
     ]
    }
   ],
   "source": [
    "predict = reg.predict(X_tcga)\n",
    "accuracy = reg.score(X_tcga, Y_tcga_binary)\n",
    "balanced_accuracy = balanced_accuracy_score(Y_tcga_binary, predict)\n",
    "#F1_score = f1_score(Y_tcga_binary, predict)\n",
    "F1_score = -1\n",
    "print('accuracy : %f\\nbalanced accuracy : %f\\nF1 score : %f' % (accuracy, balanced_accuracy, F1_score))"
   ]
  },
  {
   "cell_type": "markdown",
   "id": "choice-greene",
   "metadata": {},
   "source": [
    "# 2. Linear Regression"
   ]
  },
  {
   "cell_type": "markdown",
   "id": "liable-crowd",
   "metadata": {},
   "source": [
    "## 2.1 PDTC -> TCGA"
   ]
  },
  {
   "cell_type": "code",
   "execution_count": 21,
   "id": "historical-china",
   "metadata": {},
   "outputs": [],
   "source": [
    "X_train, X_test, Y_train, Y_test = train_test_split(X_pdtc, Y_pdtc, test_size=0.2)"
   ]
  },
  {
   "cell_type": "code",
   "execution_count": 24,
   "id": "sorted-chile",
   "metadata": {},
   "outputs": [
    {
     "data": {
      "text/plain": [
       "0.543121591107796"
      ]
     },
     "execution_count": 24,
     "metadata": {},
     "output_type": "execute_result"
    }
   ],
   "source": [
    "reg = LinearRegression()\n",
    "reg.fit(X_train, Y_train)\n",
    "scores = reg.score(X_test, Y_test)\n",
    "scores"
   ]
  },
  {
   "cell_type": "code",
   "execution_count": 25,
   "id": "adjusted-thomson",
   "metadata": {
    "scrolled": true
   },
   "outputs": [
    {
     "name": "stdout",
     "output_type": "stream",
     "text": [
      "precision : 0.873786\n",
      "recall : 0.522244\n",
      "accuracy : 0.523333\n",
      "balacned accuracy : 0.526182\n",
      "F1 score : 0.653753\n"
     ]
    }
   ],
   "source": [
    "tp = 0\n",
    "fp = 0\n",
    "tn = 0\n",
    "fn = 0\n",
    "predict = reg.predict(X_tcga)\n",
    "for expect, real in zip(predict, Y_tcga_binary):\n",
    "    if expect < threshold_pdtc:\n",
    "        if real == 'response':\n",
    "            tp += 1\n",
    "        else:\n",
    "            fp += 1\n",
    "    else:\n",
    "        if real == 'response':\n",
    "            fn += 1\n",
    "        else:\n",
    "            tn += 1\n",
    "precision = tp / (tp + fp)\n",
    "recall = tp / (tp + fn)\n",
    "accuracy = (tp + tn) / (tp + fp + tn + fn)\n",
    "balanced_accuracy = (tp / (tp + fn) + tn / (tn + fp)) / 2\n",
    "F1 = 2 * (precision * recall) / (precision + recall)\n",
    "print('precision : %f\\nrecall : %f\\naccuracy : %f\\nbalacned accuracy : %f\\nF1 score : %f' % (precision, recall, accuracy, balanced_accuracy, F1))"
   ]
  },
  {
   "cell_type": "markdown",
   "id": "hydraulic-spain",
   "metadata": {},
   "source": [
    "## 2.2 CCLE -> TCGA"
   ]
  },
  {
   "cell_type": "code",
   "execution_count": 26,
   "id": "outer-jerusalem",
   "metadata": {},
   "outputs": [],
   "source": [
    "X_train, X_test, Y_train, Y_test = train_test_split(X_ccle, Y_ccle, test_size=0.2)"
   ]
  },
  {
   "cell_type": "code",
   "execution_count": 27,
   "id": "christian-forest",
   "metadata": {},
   "outputs": [
    {
     "data": {
      "text/plain": [
       "-1.2473322443580108e+16"
      ]
     },
     "execution_count": 27,
     "metadata": {},
     "output_type": "execute_result"
    }
   ],
   "source": [
    "reg = LinearRegression()\n",
    "reg.fit(X_train, Y_train)\n",
    "scores = reg.score(X_test, Y_test)\n",
    "scores"
   ]
  },
  {
   "cell_type": "code",
   "execution_count": 28,
   "id": "flush-newsletter",
   "metadata": {
    "scrolled": true
   },
   "outputs": [
    {
     "name": "stdout",
     "output_type": "stream",
     "text": [
      "precision : 0.860972\n",
      "recall : 0.994197\n",
      "accuracy : 0.856667\n",
      "balacned accuracy : 0.497099\n",
      "F1 score : 0.922801\n"
     ]
    }
   ],
   "source": [
    "tp = 0\n",
    "fp = 0\n",
    "tn = 0\n",
    "fn = 0\n",
    "predict = reg.predict(X_tcga)\n",
    "for expect, real in zip(predict, Y_tcga_binary):\n",
    "    if expect < threshold_ccle:\n",
    "        if real == 'response':\n",
    "            tp += 1\n",
    "        else:\n",
    "            fp += 1\n",
    "    else:\n",
    "        if real == 'response':\n",
    "            fn += 1\n",
    "        else:\n",
    "            tn += 1\n",
    "precision = tp / (tp + fp)\n",
    "recall = tp / (tp + fn)\n",
    "accuracy = (tp + tn) / (tp + fp + tn + fn)\n",
    "balanced_accuracy = (tp / (tp + fn) + tn / (tn + fp)) / 2\n",
    "F1 = 2 * (precision * recall) / (precision + recall)\n",
    "print('precision : %f\\nrecall : %f\\naccuracy : %f\\nbalacned accuracy : %f\\nF1 score : %f' % (precision, recall, accuracy, balanced_accuracy, F1))"
   ]
  },
  {
   "cell_type": "markdown",
   "id": "separated-calvin",
   "metadata": {},
   "source": [
    "# 3. Ridge Regression"
   ]
  },
  {
   "cell_type": "markdown",
   "id": "engaging-pollution",
   "metadata": {},
   "source": [
    "## 3.1 PDTC -> TCGA"
   ]
  },
  {
   "cell_type": "code",
   "execution_count": 29,
   "id": "oriental-greenhouse",
   "metadata": {},
   "outputs": [],
   "source": [
    "X_train, X_test, Y_train, Y_test = train_test_split(X_pdtc, Y_pdtc, test_size=0.2)"
   ]
  },
  {
   "cell_type": "code",
   "execution_count": 30,
   "id": "arbitrary-antique",
   "metadata": {},
   "outputs": [
    {
     "data": {
      "text/plain": [
       "0.5828681701676285"
      ]
     },
     "execution_count": 30,
     "metadata": {},
     "output_type": "execute_result"
    }
   ],
   "source": [
    "reg = Ridge()\n",
    "reg.fit(X_train, Y_train)\n",
    "scores = reg.score(X_test, Y_test)\n",
    "scores"
   ]
  },
  {
   "cell_type": "code",
   "execution_count": 31,
   "id": "tired-landscape",
   "metadata": {
    "scrolled": true
   },
   "outputs": [
    {
     "name": "stdout",
     "output_type": "stream",
     "text": [
      "precision : 0.896458\n",
      "recall : 0.636364\n",
      "accuracy : 0.623333\n",
      "balacned accuracy : 0.589266\n",
      "F1 score : 0.744344\n"
     ]
    }
   ],
   "source": [
    "tp = 0\n",
    "fp = 0\n",
    "tn = 0\n",
    "fn = 0\n",
    "predict = reg.predict(X_tcga)\n",
    "for expect, real in zip(predict, Y_tcga_binary):\n",
    "    if expect < threshold_pdtc:\n",
    "        if real == 'response':\n",
    "            tp += 1\n",
    "        else:\n",
    "            fp += 1\n",
    "    else:\n",
    "        if real == 'response':\n",
    "            fn += 1\n",
    "        else:\n",
    "            tn += 1\n",
    "precision = tp / (tp + fp)\n",
    "recall = tp / (tp + fn)\n",
    "accuracy = (tp + tn) / (tp + fp + tn + fn)\n",
    "balanced_accuracy = (tp / (tp + fn) + tn / (tn + fp)) / 2\n",
    "F1 = 2 * (precision * recall) / (precision + recall)\n",
    "print('precision : %f\\nrecall : %f\\naccuracy : %f\\nbalacned accuracy : %f\\nF1 score : %f' % (precision, recall, accuracy, balanced_accuracy, F1))"
   ]
  },
  {
   "cell_type": "markdown",
   "id": "internal-candle",
   "metadata": {},
   "source": [
    "## 3.2 CCLE -> TCGA"
   ]
  },
  {
   "cell_type": "code",
   "execution_count": 32,
   "id": "urban-infrared",
   "metadata": {},
   "outputs": [],
   "source": [
    "X_train, X_test, Y_train, Y_test = train_test_split(X_ccle, Y_ccle, test_size=0.2)"
   ]
  },
  {
   "cell_type": "code",
   "execution_count": 33,
   "id": "quantitative-intensity",
   "metadata": {},
   "outputs": [
    {
     "data": {
      "text/plain": [
       "0.5887121692579464"
      ]
     },
     "execution_count": 33,
     "metadata": {},
     "output_type": "execute_result"
    }
   ],
   "source": [
    "reg = Ridge()\n",
    "reg.fit(X_train, Y_train)\n",
    "scores = reg.score(X_test, Y_test)\n",
    "scores"
   ]
  },
  {
   "cell_type": "code",
   "execution_count": 34,
   "id": "biological-swift",
   "metadata": {
    "scrolled": true
   },
   "outputs": [
    {
     "name": "stdout",
     "output_type": "stream",
     "text": [
      "precision : 0.877193\n",
      "recall : 0.483559\n",
      "accuracy : 0.496667\n",
      "balacned accuracy : 0.530936\n",
      "F1 score : 0.623441\n"
     ]
    }
   ],
   "source": [
    "tp = 0\n",
    "fp = 0\n",
    "tn = 0\n",
    "fn = 0\n",
    "predict = reg.predict(X_tcga)\n",
    "for expect, real in zip(predict, Y_tcga_binary):\n",
    "    if expect < threshold_ccle:\n",
    "        if real == 'response':\n",
    "            tp += 1\n",
    "        else:\n",
    "            fp += 1\n",
    "    else:\n",
    "        if real == 'response':\n",
    "            fn += 1\n",
    "        else:\n",
    "            tn += 1\n",
    "precision = tp / (tp + fp)\n",
    "recall = tp / (tp + fn)\n",
    "accuracy = (tp + tn) / (tp + fp + tn + fn)\n",
    "balanced_accuracy = (tp / (tp + fn) + tn / (tn + fp)) / 2\n",
    "F1 = 2 * (precision * recall) / (precision + recall)\n",
    "print('precision : %f\\nrecall : %f\\naccuracy : %f\\nbalacned accuracy : %f\\nF1 score : %f' % (precision, recall, accuracy, balanced_accuracy, F1))"
   ]
  },
  {
   "cell_type": "markdown",
   "id": "marked-myanmar",
   "metadata": {},
   "source": [
    "# 4. LASSO Regression"
   ]
  },
  {
   "cell_type": "markdown",
   "id": "federal-heater",
   "metadata": {},
   "source": [
    "## 4.1 PDTC -> TCGA"
   ]
  },
  {
   "cell_type": "code",
   "execution_count": 35,
   "id": "bizarre-category",
   "metadata": {},
   "outputs": [],
   "source": [
    "X_train, X_test, Y_train, Y_test = train_test_split(X_pdtc, Y_pdtc, test_size=0.2)"
   ]
  },
  {
   "cell_type": "code",
   "execution_count": 38,
   "id": "vertical-seven",
   "metadata": {},
   "outputs": [
    {
     "name": "stderr",
     "output_type": "stream",
     "text": [
      "C:\\Users\\sbi-student\\anaconda3\\envs\\torch_jupyter\\lib\\site-packages\\sklearn\\linear_model\\_coordinate_descent.py:530: ConvergenceWarning: Objective did not converge. You might want to increase the number of iterations. Duality gap: 0.03705727618036292, tolerance: 0.0046959580055879425\n",
      "  model = cd_fast.enet_coordinate_descent(\n"
     ]
    },
    {
     "data": {
      "text/plain": [
       "0.5219267940277483"
      ]
     },
     "execution_count": 38,
     "metadata": {},
     "output_type": "execute_result"
    }
   ],
   "source": [
    "reg = Lasso(alpha=0.0001)\n",
    "reg.fit(X_train, Y_train)\n",
    "scores = reg.score(X_test, Y_test)\n",
    "scores"
   ]
  },
  {
   "cell_type": "code",
   "execution_count": 39,
   "id": "finite-kingston",
   "metadata": {
    "scrolled": true
   },
   "outputs": [
    {
     "name": "stdout",
     "output_type": "stream",
     "text": [
      "precision : 0.882064\n",
      "recall : 0.694391\n",
      "accuracy : 0.656667\n",
      "balacned accuracy : 0.558039\n",
      "F1 score : 0.777056\n"
     ]
    }
   ],
   "source": [
    "tp = 0\n",
    "fp = 0\n",
    "tn = 0\n",
    "fn = 0\n",
    "predict = reg.predict(X_tcga)\n",
    "for expect, real in zip(predict, Y_tcga_binary):\n",
    "    if expect < threshold_pdtc:\n",
    "        if real == 'response':\n",
    "            tp += 1\n",
    "        else:\n",
    "            fp += 1\n",
    "    else:\n",
    "        if real == 'response':\n",
    "            fn += 1\n",
    "        else:\n",
    "            tn += 1\n",
    "precision = tp / (tp + fp)\n",
    "recall = tp / (tp + fn)\n",
    "accuracy = (tp + tn) / (tp + fp + tn + fn)\n",
    "balanced_accuracy = (tp / (tp + fn) + tn / (tn + fp)) / 2\n",
    "F1 = 2 * (precision * recall) / (precision + recall)\n",
    "print('precision : %f\\nrecall : %f\\naccuracy : %f\\nbalacned accuracy : %f\\nF1 score : %f' % (precision, recall, accuracy, balanced_accuracy, F1))"
   ]
  },
  {
   "cell_type": "markdown",
   "id": "dried-incident",
   "metadata": {},
   "source": [
    "## 4.2 CCLE -> TCGA"
   ]
  },
  {
   "cell_type": "code",
   "execution_count": 40,
   "id": "expected-passion",
   "metadata": {},
   "outputs": [],
   "source": [
    "X_train, X_test, Y_train, Y_test = train_test_split(X_ccle, Y_ccle, test_size=0.2)"
   ]
  },
  {
   "cell_type": "code",
   "execution_count": 41,
   "id": "prospective-albania",
   "metadata": {},
   "outputs": [
    {
     "name": "stderr",
     "output_type": "stream",
     "text": [
      "C:\\Users\\sbi-student\\anaconda3\\envs\\torch_jupyter\\lib\\site-packages\\sklearn\\linear_model\\_coordinate_descent.py:530: ConvergenceWarning: Objective did not converge. You might want to increase the number of iterations. Duality gap: 29.77424863728504, tolerance: 0.1891684308902691\n",
      "  model = cd_fast.enet_coordinate_descent(\n"
     ]
    },
    {
     "data": {
      "text/plain": [
       "0.5215656788564855"
      ]
     },
     "execution_count": 41,
     "metadata": {},
     "output_type": "execute_result"
    }
   ],
   "source": [
    "reg = Lasso(alpha=0.0001)\n",
    "reg.fit(X_train, Y_train)\n",
    "scores = reg.score(X_test, Y_test)\n",
    "scores"
   ]
  },
  {
   "cell_type": "code",
   "execution_count": 42,
   "id": "comprehensive-institution",
   "metadata": {
    "scrolled": true
   },
   "outputs": [
    {
     "name": "stdout",
     "output_type": "stream",
     "text": [
      "precision : 0.877193\n",
      "recall : 0.483559\n",
      "accuracy : 0.496667\n",
      "balacned accuracy : 0.530936\n",
      "F1 score : 0.623441\n"
     ]
    }
   ],
   "source": [
    "tp = 0\n",
    "fp = 0\n",
    "tn = 0\n",
    "fn = 0\n",
    "predict = reg.predict(X_tcga)\n",
    "for expect, real in zip(predict, Y_tcga_binary):\n",
    "    if expect < threshold_ccle:\n",
    "        if real == 'response':\n",
    "            tp += 1\n",
    "        else:\n",
    "            fp += 1\n",
    "    else:\n",
    "        if real == 'response':\n",
    "            fn += 1\n",
    "        else:\n",
    "            tn += 1\n",
    "precision = tp / (tp + fp)\n",
    "recall = tp / (tp + fn)\n",
    "accuracy = (tp + tn) / (tp + fp + tn + fn)\n",
    "balanced_accuracy = (tp / (tp + fn) + tn / (tn + fp)) / 2\n",
    "F1 = 2 * (precision * recall) / (precision + recall)\n",
    "print('precision : %f\\nrecall : %f\\naccuracy : %f\\nbalacned accuracy : %f\\nF1 score : %f' % (precision, recall, accuracy, balanced_accuracy, F1))"
   ]
  },
  {
   "cell_type": "code",
   "execution_count": 43,
   "id": "least-lancaster",
   "metadata": {},
   "outputs": [
    {
     "name": "stdout",
     "output_type": "stream",
     "text": [
      "precision : 0.861667\n",
      "recall : 1.000000\n",
      "accuracy : 0.861667\n",
      "balacned accuracy : 0.500000\n",
      "F1 score : 0.925694\n"
     ]
    }
   ],
   "source": [
    "tp = 0\n",
    "fp = 0\n",
    "tn = 0\n",
    "fn = 0\n",
    "for real in Y_tcga_binary:\n",
    "    if real == 'response':\n",
    "        tp += 1\n",
    "    else:\n",
    "        fp += 1\n",
    "precision = tp / (tp + fp)\n",
    "recall = tp / (tp + fn)\n",
    "accuracy = (tp + tn) / (tp + fp + tn + fn)\n",
    "balanced_accuracy = (tp / (tp + fn) + tn / (tn + fp)) / 2\n",
    "F1 = 2 * (precision * recall) / (precision + recall)\n",
    "print('precision : %f\\nrecall : %f\\naccuracy : %f\\nbalacned accuracy : %f\\nF1 score : %f' % (precision, recall, accuracy, balanced_accuracy, F1))"
   ]
  },
  {
   "cell_type": "code",
   "execution_count": null,
   "id": "dutch-history",
   "metadata": {},
   "outputs": [],
   "source": []
  }
 ],
 "metadata": {
  "kernelspec": {
   "display_name": "Python 3",
   "language": "python",
   "name": "python3"
  },
  "language_info": {
   "codemirror_mode": {
    "name": "ipython",
    "version": 3
   },
   "file_extension": ".py",
   "mimetype": "text/x-python",
   "name": "python",
   "nbconvert_exporter": "python",
   "pygments_lexer": "ipython3",
   "version": "3.8.6"
  }
 },
 "nbformat": 4,
 "nbformat_minor": 5
}
