{
 "cells": [
  {
   "cell_type": "code",
   "execution_count": 1,
   "id": "bound-glucose",
   "metadata": {},
   "outputs": [],
   "source": [
    "from sklearn.linear_model import LinearRegression\n",
    "import pandas as pd\n",
    "from sklearn.model_selection import KFold\n",
    "from sklearn.model_selection import cross_val_score\n",
    "import numpy as np\n",
    "from sklearn.model_selection import train_test_split\n",
    "from sklearn.linear_model import Ridge\n",
    "from sklearn.linear_model import Lasso\n",
    "from sklearn.linear_model import LogisticRegression"
   ]
  },
  {
   "cell_type": "markdown",
   "id": "difficult-sharing",
   "metadata": {},
   "source": [
    "# 0. Data preparation"
   ]
  },
  {
   "cell_type": "code",
   "execution_count": 2,
   "id": "coastal-advantage",
   "metadata": {},
   "outputs": [],
   "source": [
    "threshold = 0.5"
   ]
  },
  {
   "cell_type": "markdown",
   "id": "widespread-lesbian",
   "metadata": {},
   "source": [
    "## 0.1 PDTC"
   ]
  },
  {
   "cell_type": "code",
   "execution_count": 3,
   "id": "brown-favor",
   "metadata": {},
   "outputs": [],
   "source": [
    "response_pdtc = pd.read_csv('../data/DrugResponsesAUCModels.txt', sep='\\t')"
   ]
  },
  {
   "cell_type": "code",
   "execution_count": 4,
   "id": "subsequent-peace",
   "metadata": {},
   "outputs": [],
   "source": [
    "fingerprint_pdtc = pd.read_csv('../data/fingerprint.txt', sep = \"\\t\", header=None)\n",
    "fingerprint_pdtc.index = fingerprint_pdtc[0].tolist()\n",
    "fingerprint_pdtc.drop(0, axis=1, inplace=True)"
   ]
  },
  {
   "cell_type": "code",
   "execution_count": 5,
   "id": "increasing-consent",
   "metadata": {},
   "outputs": [],
   "source": [
    "expression_pdtc = pd.read_csv('../data/with_human/pdtc_L1000.csv')\n",
    "expression_pdtc.index = expression_pdtc['Gene'].tolist()\n",
    "expression_pdtc.drop('Gene', axis=1, inplace=True)"
   ]
  },
  {
   "cell_type": "code",
   "execution_count": 6,
   "id": "numerical-chapel",
   "metadata": {},
   "outputs": [],
   "source": [
    "X_pdtc = []\n",
    "Y_pdtc = []\n",
    "Y_pdtc_binary = []\n",
    "for idx, line in response_pdtc.iterrows():\n",
    "    if line[1] in fingerprint_pdtc.index:\n",
    "        X_pdtc.append(expression_pdtc[line[0]].tolist() + fingerprint_pdtc.loc[line[1]].tolist())\n",
    "        Y_pdtc.append(line[2])\n",
    "        if line[2] < threshold:\n",
    "            Y_pdtc_binary.append('response')\n",
    "        else:\n",
    "            Y_pdtc_binary.append('non-response')"
   ]
  },
  {
   "cell_type": "markdown",
   "id": "otherwise-bradford",
   "metadata": {},
   "source": [
    "## 0.2 CCLE"
   ]
  },
  {
   "cell_type": "code",
   "execution_count": 7,
   "id": "understanding-pottery",
   "metadata": {},
   "outputs": [],
   "source": [
    "response_ccle = pd.read_csv('../data/secondary-screen-dose-response-curve-parameters_abstract_breast_modified.csv')"
   ]
  },
  {
   "cell_type": "code",
   "execution_count": 8,
   "id": "innovative-distributor",
   "metadata": {},
   "outputs": [],
   "source": [
    "fingerprint_ccle = pd.read_csv('../data/ccle_fingerprint_only.txt', sep = \"\\t\", header=None)\n",
    "fingerprint_ccle.index = fingerprint_ccle[0].tolist()\n",
    "fingerprint_ccle.drop(0, axis=1, inplace=True)"
   ]
  },
  {
   "cell_type": "code",
   "execution_count": 9,
   "id": "precise-andrew",
   "metadata": {},
   "outputs": [],
   "source": [
    "def return_fingerprint(smiles):\n",
    "    out = np.fromstring(fingerprint_ccle.loc[smiles].values[0][1:-1], dtype=int, sep='\\t')\n",
    "    return out"
   ]
  },
  {
   "cell_type": "code",
   "execution_count": 10,
   "id": "indian-share",
   "metadata": {},
   "outputs": [],
   "source": [
    "expression_ccle = pd.read_csv('../data/with_human/cell_line_L1000.csv')\n",
    "expression_ccle.index = expression_ccle['Unnamed: 0'].tolist()\n",
    "expression_ccle.drop('Unnamed: 0', axis=1, inplace=True)"
   ]
  },
  {
   "cell_type": "code",
   "execution_count": 11,
   "id": "third-disorder",
   "metadata": {},
   "outputs": [],
   "source": [
    "X_ccle = []\n",
    "Y_ccle = []\n",
    "Y_ccle_binary = []\n",
    "for idx, line in response_ccle.iterrows():\n",
    "    if line[3] in fingerprint_ccle.index:\n",
    "        X_ccle.append(expression_ccle[line[2]].tolist() + return_fingerprint(line[3]).tolist())\n",
    "        Y_ccle.append(line[4])\n",
    "        if line[4] < threshold:\n",
    "            Y_ccle_binary.append('response')\n",
    "        else:\n",
    "            Y_ccle_binary.append('non-response')"
   ]
  },
  {
   "cell_type": "markdown",
   "id": "bigger-midwest",
   "metadata": {},
   "source": [
    "## 0.3 TCGA"
   ]
  },
  {
   "cell_type": "code",
   "execution_count": 17,
   "id": "individual-light",
   "metadata": {},
   "outputs": [],
   "source": [
    "response_tcga = pd.read_csv('../data/tcga_response_exist_conversion.csv', sep='\\t')\n",
    "response_tcga.drop('Unnamed: 0', axis=1, inplace=True)"
   ]
  },
  {
   "cell_type": "code",
   "execution_count": 24,
   "id": "unsigned-snowboard",
   "metadata": {},
   "outputs": [],
   "source": [
    "fingerprint_tcga = pd.read_csv('../data/tcga_fingerprint.txt', sep='\\t', header=None)\n",
    "fingerprint_tcga.index = fingerprint_tcga[0].tolist()\n",
    "fingerprint_tcga.drop(0, axis=1, inplace=True)"
   ]
  },
  {
   "cell_type": "code",
   "execution_count": 32,
   "id": "backed-death",
   "metadata": {},
   "outputs": [],
   "source": [
    "expression_tcga = pd.read_csv('../data/with_human/tcga_L1000.csv')\n",
    "expression_tcga.index = expression_tcga['genes'].tolist()\n",
    "expression_tcga.drop('genes', axis=1, inplace=True)"
   ]
  },
  {
   "cell_type": "code",
   "execution_count": 34,
   "id": "least-forty",
   "metadata": {},
   "outputs": [],
   "source": [
    "X_tcga = []\n",
    "Y_tcga_binary = []\n",
    "for idx, line in response_tcga.iterrows():\n",
    "    if line[1] in fingerprint_tcga.index:\n",
    "        for patient_code in expression_tcga.columns:\n",
    "            if patient_code[:12] == line[0]:\n",
    "                X_tcga.append(expression_tcga[patient_code].tolist() + fingerprint_tcga.loc[line[1]].tolist())\n",
    "                if line[2] == 'Complete Response' or line[2] == 'Partial Response':\n",
    "                    Y_tcga_binary.append('response')\n",
    "                else:\n",
    "                    Y_tcga_binary.append('non-response')\n",
    "                break"
   ]
  },
  {
   "cell_type": "markdown",
   "id": "dressed-combine",
   "metadata": {},
   "source": [
    "# 1. Logistic Regression"
   ]
  },
  {
   "cell_type": "markdown",
   "id": "perfect-painting",
   "metadata": {},
   "source": [
    "## 1.1 PDTC -> TCGA"
   ]
  },
  {
   "cell_type": "code",
   "execution_count": 40,
   "id": "waiting-scholarship",
   "metadata": {},
   "outputs": [],
   "source": [
    "X_train, X_test, Y_train, Y_test = train_test_split(X_pdtc, Y_pdtc_binary, test_size=0.2)"
   ]
  },
  {
   "cell_type": "code",
   "execution_count": 41,
   "id": "white-blanket",
   "metadata": {},
   "outputs": [
    {
     "name": "stderr",
     "output_type": "stream",
     "text": [
      "C:\\Users\\sbi-student\\anaconda3\\envs\\torch_jupyter\\lib\\site-packages\\sklearn\\linear_model\\_logistic.py:763: ConvergenceWarning: lbfgs failed to converge (status=1):\n",
      "STOP: TOTAL NO. of ITERATIONS REACHED LIMIT.\n",
      "\n",
      "Increase the number of iterations (max_iter) or scale the data as shown in:\n",
      "    https://scikit-learn.org/stable/modules/preprocessing.html\n",
      "Please also refer to the documentation for alternative solver options:\n",
      "    https://scikit-learn.org/stable/modules/linear_model.html#logistic-regression\n",
      "  n_iter_i = _check_optimize_result(\n"
     ]
    },
    {
     "data": {
      "text/plain": [
       "0.9233128834355828"
      ]
     },
     "execution_count": 41,
     "metadata": {},
     "output_type": "execute_result"
    }
   ],
   "source": [
    "reg = LogisticRegression()\n",
    "reg.fit(X_train, Y_train)\n",
    "scores = reg.score(X_test, Y_test) # mean accuracy\n",
    "scores"
   ]
  },
  {
   "cell_type": "code",
   "execution_count": 42,
   "id": "intensive-shift",
   "metadata": {
    "scrolled": true
   },
   "outputs": [
    {
     "data": {
      "text/plain": [
       "0.695"
      ]
     },
     "execution_count": 42,
     "metadata": {},
     "output_type": "execute_result"
    }
   ],
   "source": [
    "scores = reg.score(X_tcga, Y_tcga_binary) # mean accuracy\n",
    "scores"
   ]
  },
  {
   "cell_type": "markdown",
   "id": "compliant-jason",
   "metadata": {},
   "source": [
    "## 1.2 CCLE -> TCGA"
   ]
  },
  {
   "cell_type": "code",
   "execution_count": 43,
   "id": "surprising-classic",
   "metadata": {},
   "outputs": [],
   "source": [
    "X_train, X_test, Y_train, Y_test = train_test_split(X_ccle, Y_ccle_binary, test_size=0.2)"
   ]
  },
  {
   "cell_type": "code",
   "execution_count": 44,
   "id": "gothic-drinking",
   "metadata": {},
   "outputs": [
    {
     "name": "stderr",
     "output_type": "stream",
     "text": [
      "C:\\Users\\sbi-student\\anaconda3\\envs\\torch_jupyter\\lib\\site-packages\\sklearn\\linear_model\\_logistic.py:763: ConvergenceWarning: lbfgs failed to converge (status=1):\n",
      "STOP: TOTAL NO. of ITERATIONS REACHED LIMIT.\n",
      "\n",
      "Increase the number of iterations (max_iter) or scale the data as shown in:\n",
      "    https://scikit-learn.org/stable/modules/preprocessing.html\n",
      "Please also refer to the documentation for alternative solver options:\n",
      "    https://scikit-learn.org/stable/modules/linear_model.html#logistic-regression\n",
      "  n_iter_i = _check_optimize_result(\n"
     ]
    },
    {
     "data": {
      "text/plain": [
       "0.966566787572938"
      ]
     },
     "execution_count": 44,
     "metadata": {},
     "output_type": "execute_result"
    }
   ],
   "source": [
    "reg = LogisticRegression()\n",
    "reg.fit(X_train, Y_train)\n",
    "scores = reg.score(X_test, Y_test) # mean accuracy\n",
    "scores"
   ]
  },
  {
   "cell_type": "code",
   "execution_count": 45,
   "id": "pointed-biology",
   "metadata": {
    "scrolled": true
   },
   "outputs": [
    {
     "data": {
      "text/plain": [
       "0.14333333333333334"
      ]
     },
     "execution_count": 45,
     "metadata": {},
     "output_type": "execute_result"
    }
   ],
   "source": [
    "scores = reg.score(X_tcga, Y_tcga_binary) # mean accuracy\n",
    "scores"
   ]
  },
  {
   "cell_type": "markdown",
   "id": "choice-greene",
   "metadata": {},
   "source": [
    "# 2. Linear Regression"
   ]
  },
  {
   "cell_type": "markdown",
   "id": "liable-crowd",
   "metadata": {},
   "source": [
    "## 2.1 PDTC -> TCGA"
   ]
  },
  {
   "cell_type": "code",
   "execution_count": 48,
   "id": "historical-china",
   "metadata": {},
   "outputs": [],
   "source": [
    "X_train, X_test, Y_train, Y_test = train_test_split(X_pdtc, Y_pdtc, test_size=0.2)"
   ]
  },
  {
   "cell_type": "code",
   "execution_count": 49,
   "id": "sorted-chile",
   "metadata": {},
   "outputs": [
    {
     "data": {
      "text/plain": [
       "0.5721273765113899"
      ]
     },
     "execution_count": 49,
     "metadata": {},
     "output_type": "execute_result"
    }
   ],
   "source": [
    "reg = LinearRegression()\n",
    "reg.fit(X_train, Y_train)\n",
    "scores = reg.score(X_test, Y_test)\n",
    "scores"
   ]
  },
  {
   "cell_type": "code",
   "execution_count": 53,
   "id": "adjusted-thomson",
   "metadata": {
    "scrolled": true
   },
   "outputs": [
    {
     "name": "stdout",
     "output_type": "stream",
     "text": [
      "0.8616666666666667\n"
     ]
    }
   ],
   "source": [
    "right = 0\n",
    "wrong = 0\n",
    "predict = reg.predict(X_tcga)\n",
    "for expect, real in zip(predict, Y_tcga_binary):\n",
    "    if expect < threshold:\n",
    "        if real == 'response':\n",
    "            right += 1\n",
    "        else:\n",
    "            wrong += 1\n",
    "    else:\n",
    "        if real == 'response':\n",
    "            wrong += 1\n",
    "        else:\n",
    "            right += 1\n",
    "print(right/(right + wrong))"
   ]
  },
  {
   "cell_type": "markdown",
   "id": "hydraulic-spain",
   "metadata": {},
   "source": [
    "## 2.2 CCLE -> TCGA"
   ]
  },
  {
   "cell_type": "code",
   "execution_count": 54,
   "id": "outer-jerusalem",
   "metadata": {},
   "outputs": [],
   "source": [
    "X_train, X_test, Y_train, Y_test = train_test_split(X_ccle, Y_ccle, test_size=0.2)"
   ]
  },
  {
   "cell_type": "code",
   "execution_count": 55,
   "id": "christian-forest",
   "metadata": {},
   "outputs": [
    {
     "data": {
      "text/plain": [
       "0.5886986513767958"
      ]
     },
     "execution_count": 55,
     "metadata": {},
     "output_type": "execute_result"
    }
   ],
   "source": [
    "reg = LinearRegression()\n",
    "reg.fit(X_train, Y_train)\n",
    "scores = reg.score(X_test, Y_test)\n",
    "scores"
   ]
  },
  {
   "cell_type": "code",
   "execution_count": 56,
   "id": "flush-newsletter",
   "metadata": {
    "scrolled": true
   },
   "outputs": [
    {
     "name": "stdout",
     "output_type": "stream",
     "text": [
      "0.6266666666666667\n"
     ]
    }
   ],
   "source": [
    "right = 0\n",
    "wrong = 0\n",
    "predict = reg.predict(X_tcga)\n",
    "for expect, real in zip(predict, Y_tcga_binary):\n",
    "    if expect < threshold:\n",
    "        if real == 'response':\n",
    "            right += 1\n",
    "        else:\n",
    "            wrong += 1\n",
    "    else:\n",
    "        if real == 'response':\n",
    "            wrong += 1\n",
    "        else:\n",
    "            right += 1\n",
    "print(right/(right + wrong))"
   ]
  },
  {
   "cell_type": "markdown",
   "id": "separated-calvin",
   "metadata": {},
   "source": [
    "# 3. Ridge Regression"
   ]
  },
  {
   "cell_type": "markdown",
   "id": "engaging-pollution",
   "metadata": {},
   "source": [
    "## 3.1 PDTC -> TCGA"
   ]
  },
  {
   "cell_type": "code",
   "execution_count": 57,
   "id": "oriental-greenhouse",
   "metadata": {},
   "outputs": [],
   "source": [
    "X_train, X_test, Y_train, Y_test = train_test_split(X_pdtc, Y_pdtc, test_size=0.2)"
   ]
  },
  {
   "cell_type": "code",
   "execution_count": 59,
   "id": "arbitrary-antique",
   "metadata": {},
   "outputs": [
    {
     "data": {
      "text/plain": [
       "0.47553152854875047"
      ]
     },
     "execution_count": 59,
     "metadata": {},
     "output_type": "execute_result"
    }
   ],
   "source": [
    "reg = Ridge()\n",
    "reg.fit(X_train, Y_train)\n",
    "scores = reg.score(X_test, Y_test)\n",
    "scores"
   ]
  },
  {
   "cell_type": "code",
   "execution_count": 60,
   "id": "tired-landscape",
   "metadata": {
    "scrolled": true
   },
   "outputs": [
    {
     "name": "stdout",
     "output_type": "stream",
     "text": [
      "0.6916666666666667\n"
     ]
    }
   ],
   "source": [
    "right = 0\n",
    "wrong = 0\n",
    "predict = reg.predict(X_tcga)\n",
    "for expect, real in zip(predict, Y_tcga_binary):\n",
    "    if expect < threshold:\n",
    "        if real == 'response':\n",
    "            right += 1\n",
    "        else:\n",
    "            wrong += 1\n",
    "    else:\n",
    "        if real == 'response':\n",
    "            wrong += 1\n",
    "        else:\n",
    "            right += 1\n",
    "print(right/(right + wrong))"
   ]
  },
  {
   "cell_type": "markdown",
   "id": "internal-candle",
   "metadata": {},
   "source": [
    "## 3.2 CCLE -> TCGA"
   ]
  },
  {
   "cell_type": "code",
   "execution_count": 61,
   "id": "urban-infrared",
   "metadata": {},
   "outputs": [],
   "source": [
    "X_train, X_test, Y_train, Y_test = train_test_split(X_ccle, Y_ccle, test_size=0.2)"
   ]
  },
  {
   "cell_type": "code",
   "execution_count": 62,
   "id": "quantitative-intensity",
   "metadata": {},
   "outputs": [
    {
     "data": {
      "text/plain": [
       "0.597637114119458"
      ]
     },
     "execution_count": 62,
     "metadata": {},
     "output_type": "execute_result"
    }
   ],
   "source": [
    "reg = Ridge()\n",
    "reg.fit(X_train, Y_train)\n",
    "scores = reg.score(X_test, Y_test)\n",
    "scores"
   ]
  },
  {
   "cell_type": "code",
   "execution_count": 63,
   "id": "biological-swift",
   "metadata": {
    "scrolled": true
   },
   "outputs": [
    {
     "name": "stdout",
     "output_type": "stream",
     "text": [
      "0.135\n"
     ]
    }
   ],
   "source": [
    "right = 0\n",
    "wrong = 0\n",
    "predict = reg.predict(X_tcga)\n",
    "for expect, real in zip(predict, Y_tcga_binary):\n",
    "    if expect < threshold:\n",
    "        if real == 'response':\n",
    "            right += 1\n",
    "        else:\n",
    "            wrong += 1\n",
    "    else:\n",
    "        if real == 'response':\n",
    "            wrong += 1\n",
    "        else:\n",
    "            right += 1\n",
    "print(right/(right + wrong))"
   ]
  },
  {
   "cell_type": "markdown",
   "id": "marked-myanmar",
   "metadata": {},
   "source": [
    "# 4. LASSO Regression"
   ]
  },
  {
   "cell_type": "markdown",
   "id": "federal-heater",
   "metadata": {},
   "source": [
    "## 4.1 PDTC -> TCGA"
   ]
  },
  {
   "cell_type": "code",
   "execution_count": 74,
   "id": "bizarre-category",
   "metadata": {},
   "outputs": [],
   "source": [
    "X_train, X_test, Y_train, Y_test = train_test_split(X_pdtc, Y_pdtc, test_size=0.2)"
   ]
  },
  {
   "cell_type": "code",
   "execution_count": 65,
   "id": "defined-culture",
   "metadata": {},
   "outputs": [
    {
     "data": {
      "text/plain": [
       "-0.0004151107210463856"
      ]
     },
     "execution_count": 65,
     "metadata": {},
     "output_type": "execute_result"
    }
   ],
   "source": [
    "reg = Lasso()\n",
    "reg.fit(X_train, Y_train)\n",
    "scores = reg.score(X_test, Y_test)\n",
    "scores"
   ]
  },
  {
   "cell_type": "code",
   "execution_count": 66,
   "id": "acting-gender",
   "metadata": {
    "scrolled": true
   },
   "outputs": [
    {
     "name": "stdout",
     "output_type": "stream",
     "text": [
      "0.8616666666666667\n"
     ]
    }
   ],
   "source": [
    "right = 0\n",
    "wrong = 0\n",
    "predict = reg.predict(X_tcga)\n",
    "for expect, real in zip(predict, Y_tcga_binary):\n",
    "    if expect < threshold:\n",
    "        if real == 'response':\n",
    "            right += 1\n",
    "        else:\n",
    "            wrong += 1\n",
    "    else:\n",
    "        if real == 'response':\n",
    "            wrong += 1\n",
    "        else:\n",
    "            right += 1\n",
    "print(right/(right + wrong))"
   ]
  },
  {
   "cell_type": "code",
   "execution_count": 75,
   "id": "vertical-seven",
   "metadata": {},
   "outputs": [
    {
     "name": "stderr",
     "output_type": "stream",
     "text": [
      "C:\\Users\\sbi-student\\anaconda3\\envs\\torch_jupyter\\lib\\site-packages\\sklearn\\linear_model\\_coordinate_descent.py:530: ConvergenceWarning: Objective did not converge. You might want to increase the number of iterations. Duality gap: 0.03345216473055679, tolerance: 0.004637768717226804\n",
      "  model = cd_fast.enet_coordinate_descent(\n"
     ]
    },
    {
     "data": {
      "text/plain": [
       "0.517102889506617"
      ]
     },
     "execution_count": 75,
     "metadata": {},
     "output_type": "execute_result"
    }
   ],
   "source": [
    "reg = Lasso(alpha=0.0001)\n",
    "reg.fit(X_train, Y_train)\n",
    "scores = reg.score(X_test, Y_test)\n",
    "scores"
   ]
  },
  {
   "cell_type": "code",
   "execution_count": 76,
   "id": "finite-kingston",
   "metadata": {
    "scrolled": true
   },
   "outputs": [
    {
     "name": "stdout",
     "output_type": "stream",
     "text": [
      "0.6933333333333334\n"
     ]
    }
   ],
   "source": [
    "right = 0\n",
    "wrong = 0\n",
    "predict = reg.predict(X_tcga)\n",
    "for expect, real in zip(predict, Y_tcga_binary):\n",
    "    if expect < threshold:\n",
    "        if real == 'response':\n",
    "            right += 1\n",
    "        else:\n",
    "            wrong += 1\n",
    "    else:\n",
    "        if real == 'response':\n",
    "            wrong += 1\n",
    "        else:\n",
    "            right += 1\n",
    "print(right/(right + wrong))"
   ]
  },
  {
   "cell_type": "markdown",
   "id": "dried-incident",
   "metadata": {},
   "source": [
    "## 4.2 CCLE -> TCGA"
   ]
  },
  {
   "cell_type": "code",
   "execution_count": 67,
   "id": "expected-passion",
   "metadata": {},
   "outputs": [],
   "source": [
    "X_train, X_test, Y_train, Y_test = train_test_split(X_ccle, Y_ccle, test_size=0.2)"
   ]
  },
  {
   "cell_type": "code",
   "execution_count": 68,
   "id": "municipal-organization",
   "metadata": {},
   "outputs": [
    {
     "data": {
      "text/plain": [
       "-0.00038596610680352583"
      ]
     },
     "execution_count": 68,
     "metadata": {},
     "output_type": "execute_result"
    }
   ],
   "source": [
    "reg = Lasso()\n",
    "reg.fit(X_train, Y_train)\n",
    "scores = reg.score(X_test, Y_test)\n",
    "scores"
   ]
  },
  {
   "cell_type": "code",
   "execution_count": 69,
   "id": "fourth-particle",
   "metadata": {
    "scrolled": true
   },
   "outputs": [
    {
     "name": "stdout",
     "output_type": "stream",
     "text": [
      "0.13833333333333334\n"
     ]
    }
   ],
   "source": [
    "right = 0\n",
    "wrong = 0\n",
    "predict = reg.predict(X_tcga)\n",
    "for expect, real in zip(predict, Y_tcga_binary):\n",
    "    if expect < threshold:\n",
    "        if real == 'response':\n",
    "            right += 1\n",
    "        else:\n",
    "            wrong += 1\n",
    "    else:\n",
    "        if real == 'response':\n",
    "            wrong += 1\n",
    "        else:\n",
    "            right += 1\n",
    "print(right/(right + wrong))"
   ]
  },
  {
   "cell_type": "code",
   "execution_count": 72,
   "id": "prospective-albania",
   "metadata": {},
   "outputs": [
    {
     "name": "stderr",
     "output_type": "stream",
     "text": [
      "C:\\Users\\sbi-student\\anaconda3\\envs\\torch_jupyter\\lib\\site-packages\\sklearn\\linear_model\\_coordinate_descent.py:530: ConvergenceWarning: Objective did not converge. You might want to increase the number of iterations. Duality gap: 13.941318487221906, tolerance: 0.18816762931894268\n",
      "  model = cd_fast.enet_coordinate_descent(\n"
     ]
    },
    {
     "data": {
      "text/plain": [
       "0.5321509076659257"
      ]
     },
     "execution_count": 72,
     "metadata": {},
     "output_type": "execute_result"
    }
   ],
   "source": [
    "reg = Lasso(alpha=0.0001)\n",
    "reg.fit(X_train, Y_train)\n",
    "scores = reg.score(X_test, Y_test)\n",
    "scores"
   ]
  },
  {
   "cell_type": "code",
   "execution_count": 73,
   "id": "comprehensive-institution",
   "metadata": {
    "scrolled": true
   },
   "outputs": [
    {
     "name": "stdout",
     "output_type": "stream",
     "text": [
      "0.14\n"
     ]
    }
   ],
   "source": [
    "right = 0\n",
    "wrong = 0\n",
    "predict = reg.predict(X_tcga)\n",
    "for expect, real in zip(predict, Y_tcga_binary):\n",
    "    if expect < threshold:\n",
    "        if real == 'response':\n",
    "            right += 1\n",
    "        else:\n",
    "            wrong += 1\n",
    "    else:\n",
    "        if real == 'response':\n",
    "            wrong += 1\n",
    "        else:\n",
    "            right += 1\n",
    "print(right/(right + wrong))"
   ]
  },
  {
   "cell_type": "code",
   "execution_count": null,
   "id": "least-lancaster",
   "metadata": {},
   "outputs": [],
   "source": []
  }
 ],
 "metadata": {
  "kernelspec": {
   "display_name": "Python 3",
   "language": "python",
   "name": "python3"
  },
  "language_info": {
   "codemirror_mode": {
    "name": "ipython",
    "version": 3
   },
   "file_extension": ".py",
   "mimetype": "text/x-python",
   "name": "python",
   "nbconvert_exporter": "python",
   "pygments_lexer": "ipython3",
   "version": "3.8.6"
  }
 },
 "nbformat": 4,
 "nbformat_minor": 5
}
