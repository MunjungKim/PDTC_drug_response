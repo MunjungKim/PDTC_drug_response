{
 "cells": [
  {
   "cell_type": "code",
   "execution_count": 1,
   "id": "bound-glucose",
   "metadata": {},
   "outputs": [],
   "source": [
    "from sklearn.linear_model import LinearRegression\n",
    "import pandas as pd\n",
    "from sklearn.model_selection import KFold\n",
    "from sklearn.model_selection import cross_val_score\n",
    "import numpy as np\n",
    "from sklearn.model_selection import train_test_split\n",
    "from sklearn.linear_model import Ridge\n",
    "from sklearn.linear_model import Lasso\n",
    "from sklearn.linear_model import LogisticRegression"
   ]
  },
  {
   "cell_type": "markdown",
   "id": "difficult-sharing",
   "metadata": {},
   "source": [
    "# 0. Data preparation"
   ]
  },
  {
   "cell_type": "markdown",
   "id": "widespread-lesbian",
   "metadata": {},
   "source": [
    "## 0.1 PDTC"
   ]
  },
  {
   "cell_type": "code",
   "execution_count": 2,
   "id": "brown-favor",
   "metadata": {},
   "outputs": [],
   "source": [
    "response_pdtc = pd.read_csv('../data/DrugResponsesAUCModels.txt', sep='\\t')\n",
    "threshold_pdtc = response_pdtc['AUC'].median()"
   ]
  },
  {
   "cell_type": "code",
   "execution_count": 3,
   "id": "subsequent-peace",
   "metadata": {},
   "outputs": [],
   "source": [
    "fingerprint_pdtc = pd.read_csv('../data/fingerprint.txt', sep = \"\\t\", header=None)\n",
    "fingerprint_pdtc.index = fingerprint_pdtc[0].tolist()\n",
    "fingerprint_pdtc.drop(0, axis=1, inplace=True)"
   ]
  },
  {
   "cell_type": "code",
   "execution_count": 4,
   "id": "increasing-consent",
   "metadata": {},
   "outputs": [],
   "source": [
    "expression_pdtc = pd.read_csv('../data/with_human/pdtc_L1000.csv')\n",
    "expression_pdtc.index = expression_pdtc['Gene'].tolist()\n",
    "expression_pdtc.drop('Gene', axis=1, inplace=True)"
   ]
  },
  {
   "cell_type": "code",
   "execution_count": 5,
   "id": "numerical-chapel",
   "metadata": {},
   "outputs": [],
   "source": [
    "X_pdtc = []\n",
    "Y_pdtc = []\n",
    "Y_pdtc_binary = []\n",
    "for idx, line in response_pdtc.iterrows():\n",
    "    if line[1] in fingerprint_pdtc.index:\n",
    "        X_pdtc.append(expression_pdtc[line[0]].tolist() + fingerprint_pdtc.loc[line[1]].tolist())\n",
    "        Y_pdtc.append(line[2])\n",
    "        if line[2] < threshold_pdtc:\n",
    "            Y_pdtc_binary.append('response')\n",
    "        else:\n",
    "            Y_pdtc_binary.append('non-response')"
   ]
  },
  {
   "cell_type": "markdown",
   "id": "otherwise-bradford",
   "metadata": {},
   "source": [
    "## 0.2 CCLE"
   ]
  },
  {
   "cell_type": "code",
   "execution_count": 6,
   "id": "understanding-pottery",
   "metadata": {},
   "outputs": [],
   "source": [
    "response_ccle = pd.read_csv('../data/secondary-screen-dose-response-curve-parameters_abstract_breast_modified.csv')\n",
    "threshold_ccle = response_ccle['auc'].median()"
   ]
  },
  {
   "cell_type": "code",
   "execution_count": 7,
   "id": "innovative-distributor",
   "metadata": {},
   "outputs": [],
   "source": [
    "fingerprint_ccle = pd.read_csv('../data/ccle_fingerprint_only.txt', sep = \"\\t\", header=None)\n",
    "fingerprint_ccle.index = fingerprint_ccle[0].tolist()\n",
    "fingerprint_ccle.drop(0, axis=1, inplace=True)"
   ]
  },
  {
   "cell_type": "code",
   "execution_count": 8,
   "id": "precise-andrew",
   "metadata": {},
   "outputs": [],
   "source": [
    "def return_fingerprint(smiles):\n",
    "    out = np.fromstring(fingerprint_ccle.loc[smiles].values[0][1:-1], dtype=int, sep='\\t')\n",
    "    return out"
   ]
  },
  {
   "cell_type": "code",
   "execution_count": 9,
   "id": "indian-share",
   "metadata": {},
   "outputs": [],
   "source": [
    "expression_ccle = pd.read_csv('../data/with_human/cell_line_L1000.csv')\n",
    "expression_ccle.index = expression_ccle['Unnamed: 0'].tolist()\n",
    "expression_ccle.drop('Unnamed: 0', axis=1, inplace=True)"
   ]
  },
  {
   "cell_type": "code",
   "execution_count": 10,
   "id": "third-disorder",
   "metadata": {},
   "outputs": [],
   "source": [
    "X_ccle = []\n",
    "Y_ccle = []\n",
    "Y_ccle_binary = []\n",
    "for idx, line in response_ccle.iterrows():\n",
    "    if line[3] in fingerprint_ccle.index:\n",
    "        X_ccle.append(expression_ccle[line[2]].tolist() + return_fingerprint(line[3]).tolist())\n",
    "        Y_ccle.append(line[4])\n",
    "        if line[4] < threshold_ccle:\n",
    "            Y_ccle_binary.append('response')\n",
    "        else:\n",
    "            Y_ccle_binary.append('non-response')"
   ]
  },
  {
   "cell_type": "markdown",
   "id": "bigger-midwest",
   "metadata": {},
   "source": [
    "## 0.3 TCGA"
   ]
  },
  {
   "cell_type": "code",
   "execution_count": 11,
   "id": "individual-light",
   "metadata": {},
   "outputs": [],
   "source": [
    "response_tcga = pd.read_csv('../data/tcga_response_exist_conversion.csv', sep='\\t')\n",
    "response_tcga.drop('Unnamed: 0', axis=1, inplace=True)"
   ]
  },
  {
   "cell_type": "code",
   "execution_count": 12,
   "id": "unsigned-snowboard",
   "metadata": {},
   "outputs": [],
   "source": [
    "fingerprint_tcga = pd.read_csv('../data/tcga_fingerprint.txt', sep='\\t', header=None)\n",
    "fingerprint_tcga.index = fingerprint_tcga[0].tolist()\n",
    "fingerprint_tcga.drop(0, axis=1, inplace=True)"
   ]
  },
  {
   "cell_type": "code",
   "execution_count": 13,
   "id": "backed-death",
   "metadata": {},
   "outputs": [],
   "source": [
    "expression_tcga = pd.read_csv('../data/with_human/tcga_L1000.csv')\n",
    "expression_tcga.index = expression_tcga['genes'].tolist()\n",
    "expression_tcga.drop('genes', axis=1, inplace=True)"
   ]
  },
  {
   "cell_type": "code",
   "execution_count": 14,
   "id": "least-forty",
   "metadata": {},
   "outputs": [],
   "source": [
    "X_tcga = []\n",
    "Y_tcga_binary = []\n",
    "for idx, line in response_tcga.iterrows():\n",
    "    if line[1] in fingerprint_tcga.index:\n",
    "        for patient_code in expression_tcga.columns:\n",
    "            if patient_code[:12] == line[0]:\n",
    "                X_tcga.append(expression_tcga[patient_code].tolist() + fingerprint_tcga.loc[line[1]].tolist())\n",
    "                if line[2] == 'Complete Response' or line[2] == 'Partial Response':\n",
    "                    Y_tcga_binary.append('response')\n",
    "                else:\n",
    "                    Y_tcga_binary.append('non-response')\n",
    "                break"
   ]
  },
  {
   "cell_type": "markdown",
   "id": "dressed-combine",
   "metadata": {},
   "source": [
    "# 1. Logistic Regression"
   ]
  },
  {
   "cell_type": "markdown",
   "id": "perfect-painting",
   "metadata": {},
   "source": [
    "## 1.1 PDTC -> TCGA"
   ]
  },
  {
   "cell_type": "code",
   "execution_count": 15,
   "id": "waiting-scholarship",
   "metadata": {},
   "outputs": [],
   "source": [
    "X_train, X_test, Y_train, Y_test = train_test_split(X_pdtc, Y_pdtc_binary, test_size=0.2)"
   ]
  },
  {
   "cell_type": "code",
   "execution_count": 16,
   "id": "white-blanket",
   "metadata": {},
   "outputs": [
    {
     "name": "stderr",
     "output_type": "stream",
     "text": [
      "C:\\Users\\sbi-student\\anaconda3\\envs\\torch_jupyter\\lib\\site-packages\\sklearn\\linear_model\\_logistic.py:763: ConvergenceWarning: lbfgs failed to converge (status=1):\n",
      "STOP: TOTAL NO. of ITERATIONS REACHED LIMIT.\n",
      "\n",
      "Increase the number of iterations (max_iter) or scale the data as shown in:\n",
      "    https://scikit-learn.org/stable/modules/preprocessing.html\n",
      "Please also refer to the documentation for alternative solver options:\n",
      "    https://scikit-learn.org/stable/modules/linear_model.html#logistic-regression\n",
      "  n_iter_i = _check_optimize_result(\n"
     ]
    },
    {
     "data": {
      "text/plain": [
       "0.7914110429447853"
      ]
     },
     "execution_count": 16,
     "metadata": {},
     "output_type": "execute_result"
    }
   ],
   "source": [
    "reg = LogisticRegression()\n",
    "reg.fit(X_train, Y_train)\n",
    "scores = reg.score(X_test, Y_test) # mean accuracy\n",
    "scores"
   ]
  },
  {
   "cell_type": "code",
   "execution_count": 17,
   "id": "intensive-shift",
   "metadata": {
    "scrolled": true
   },
   "outputs": [
    {
     "data": {
      "text/plain": [
       "0.6266666666666667"
      ]
     },
     "execution_count": 17,
     "metadata": {},
     "output_type": "execute_result"
    }
   ],
   "source": [
    "scores = reg.score(X_tcga, Y_tcga_binary) # mean accuracy\n",
    "scores"
   ]
  },
  {
   "cell_type": "markdown",
   "id": "compliant-jason",
   "metadata": {},
   "source": [
    "## 1.2 CCLE -> TCGA"
   ]
  },
  {
   "cell_type": "code",
   "execution_count": 18,
   "id": "surprising-classic",
   "metadata": {},
   "outputs": [],
   "source": [
    "X_train, X_test, Y_train, Y_test = train_test_split(X_ccle, Y_ccle_binary, test_size=0.2)"
   ]
  },
  {
   "cell_type": "code",
   "execution_count": 19,
   "id": "gothic-drinking",
   "metadata": {},
   "outputs": [
    {
     "name": "stderr",
     "output_type": "stream",
     "text": [
      "C:\\Users\\sbi-student\\anaconda3\\envs\\torch_jupyter\\lib\\site-packages\\sklearn\\linear_model\\_logistic.py:763: ConvergenceWarning: lbfgs failed to converge (status=1):\n",
      "STOP: TOTAL NO. of ITERATIONS REACHED LIMIT.\n",
      "\n",
      "Increase the number of iterations (max_iter) or scale the data as shown in:\n",
      "    https://scikit-learn.org/stable/modules/preprocessing.html\n",
      "Please also refer to the documentation for alternative solver options:\n",
      "    https://scikit-learn.org/stable/modules/linear_model.html#logistic-regression\n",
      "  n_iter_i = _check_optimize_result(\n"
     ]
    },
    {
     "data": {
      "text/plain": [
       "0.6946853808547547"
      ]
     },
     "execution_count": 19,
     "metadata": {},
     "output_type": "execute_result"
    }
   ],
   "source": [
    "reg = LogisticRegression()\n",
    "reg.fit(X_train, Y_train)\n",
    "scores = reg.score(X_test, Y_test) # mean accuracy\n",
    "scores"
   ]
  },
  {
   "cell_type": "code",
   "execution_count": 20,
   "id": "pointed-biology",
   "metadata": {
    "scrolled": true
   },
   "outputs": [
    {
     "data": {
      "text/plain": [
       "0.5"
      ]
     },
     "execution_count": 20,
     "metadata": {},
     "output_type": "execute_result"
    }
   ],
   "source": [
    "scores = reg.score(X_tcga, Y_tcga_binary) # mean accuracy\n",
    "scores"
   ]
  },
  {
   "cell_type": "markdown",
   "id": "choice-greene",
   "metadata": {},
   "source": [
    "# 2. Linear Regression"
   ]
  },
  {
   "cell_type": "markdown",
   "id": "liable-crowd",
   "metadata": {},
   "source": [
    "## 2.1 PDTC -> TCGA"
   ]
  },
  {
   "cell_type": "code",
   "execution_count": 21,
   "id": "historical-china",
   "metadata": {},
   "outputs": [],
   "source": [
    "X_train, X_test, Y_train, Y_test = train_test_split(X_pdtc, Y_pdtc, test_size=0.2)"
   ]
  },
  {
   "cell_type": "code",
   "execution_count": 24,
   "id": "sorted-chile",
   "metadata": {},
   "outputs": [
    {
     "data": {
      "text/plain": [
       "0.543121591107796"
      ]
     },
     "execution_count": 24,
     "metadata": {},
     "output_type": "execute_result"
    }
   ],
   "source": [
    "reg = LinearRegression()\n",
    "reg.fit(X_train, Y_train)\n",
    "scores = reg.score(X_test, Y_test)\n",
    "scores"
   ]
  },
  {
   "cell_type": "code",
   "execution_count": 25,
   "id": "adjusted-thomson",
   "metadata": {
    "scrolled": true
   },
   "outputs": [
    {
     "name": "stdout",
     "output_type": "stream",
     "text": [
      "precision : 0.873786\n",
      "recall : 0.522244\n",
      "accuracy : 0.523333\n",
      "balacned accuracy : 0.526182\n",
      "F1 score : 0.653753\n"
     ]
    }
   ],
   "source": [
    "tp = 0\n",
    "fp = 0\n",
    "tn = 0\n",
    "fn = 0\n",
    "predict = reg.predict(X_tcga)\n",
    "for expect, real in zip(predict, Y_tcga_binary):\n",
    "    if expect < threshold_pdtc:\n",
    "        if real == 'response':\n",
    "            tp += 1\n",
    "        else:\n",
    "            fp += 1\n",
    "    else:\n",
    "        if real == 'response':\n",
    "            fn += 1\n",
    "        else:\n",
    "            tn += 1\n",
    "precision = tp / (tp + fp)\n",
    "recall = tp / (tp + fn)\n",
    "accuracy = (tp + tn) / (tp + fp + tn + fn)\n",
    "balanced_accuracy = (tp / (tp + fn) + tn / (tn + fp)) / 2\n",
    "F1 = 2 * (precision * recall) / (precision + recall)\n",
    "print('precision : %f\\nrecall : %f\\naccuracy : %f\\nbalacned accuracy : %f\\nF1 score : %f' % (precision, recall, accuracy, balanced_accuracy, F1))"
   ]
  },
  {
   "cell_type": "markdown",
   "id": "hydraulic-spain",
   "metadata": {},
   "source": [
    "## 2.2 CCLE -> TCGA"
   ]
  },
  {
   "cell_type": "code",
   "execution_count": 26,
   "id": "outer-jerusalem",
   "metadata": {},
   "outputs": [],
   "source": [
    "X_train, X_test, Y_train, Y_test = train_test_split(X_ccle, Y_ccle, test_size=0.2)"
   ]
  },
  {
   "cell_type": "code",
   "execution_count": 27,
   "id": "christian-forest",
   "metadata": {},
   "outputs": [
    {
     "data": {
      "text/plain": [
       "-1.2473322443580108e+16"
      ]
     },
     "execution_count": 27,
     "metadata": {},
     "output_type": "execute_result"
    }
   ],
   "source": [
    "reg = LinearRegression()\n",
    "reg.fit(X_train, Y_train)\n",
    "scores = reg.score(X_test, Y_test)\n",
    "scores"
   ]
  },
  {
   "cell_type": "code",
   "execution_count": 28,
   "id": "flush-newsletter",
   "metadata": {
    "scrolled": true
   },
   "outputs": [
    {
     "name": "stdout",
     "output_type": "stream",
     "text": [
      "precision : 0.860972\n",
      "recall : 0.994197\n",
      "accuracy : 0.856667\n",
      "balacned accuracy : 0.497099\n",
      "F1 score : 0.922801\n"
     ]
    }
   ],
   "source": [
    "tp = 0\n",
    "fp = 0\n",
    "tn = 0\n",
    "fn = 0\n",
    "predict = reg.predict(X_tcga)\n",
    "for expect, real in zip(predict, Y_tcga_binary):\n",
    "    if expect < threshold_ccle:\n",
    "        if real == 'response':\n",
    "            tp += 1\n",
    "        else:\n",
    "            fp += 1\n",
    "    else:\n",
    "        if real == 'response':\n",
    "            fn += 1\n",
    "        else:\n",
    "            tn += 1\n",
    "precision = tp / (tp + fp)\n",
    "recall = tp / (tp + fn)\n",
    "accuracy = (tp + tn) / (tp + fp + tn + fn)\n",
    "balanced_accuracy = (tp / (tp + fn) + tn / (tn + fp)) / 2\n",
    "F1 = 2 * (precision * recall) / (precision + recall)\n",
    "print('precision : %f\\nrecall : %f\\naccuracy : %f\\nbalacned accuracy : %f\\nF1 score : %f' % (precision, recall, accuracy, balanced_accuracy, F1))"
   ]
  },
  {
   "cell_type": "markdown",
   "id": "separated-calvin",
   "metadata": {},
   "source": [
    "# 3. Ridge Regression"
   ]
  },
  {
   "cell_type": "markdown",
   "id": "engaging-pollution",
   "metadata": {},
   "source": [
    "## 3.1 PDTC -> TCGA"
   ]
  },
  {
   "cell_type": "code",
   "execution_count": 29,
   "id": "oriental-greenhouse",
   "metadata": {},
   "outputs": [],
   "source": [
    "X_train, X_test, Y_train, Y_test = train_test_split(X_pdtc, Y_pdtc, test_size=0.2)"
   ]
  },
  {
   "cell_type": "code",
   "execution_count": 30,
   "id": "arbitrary-antique",
   "metadata": {},
   "outputs": [
    {
     "data": {
      "text/plain": [
       "0.5828681701676285"
      ]
     },
     "execution_count": 30,
     "metadata": {},
     "output_type": "execute_result"
    }
   ],
   "source": [
    "reg = Ridge()\n",
    "reg.fit(X_train, Y_train)\n",
    "scores = reg.score(X_test, Y_test)\n",
    "scores"
   ]
  },
  {
   "cell_type": "code",
   "execution_count": 31,
   "id": "tired-landscape",
   "metadata": {
    "scrolled": true
   },
   "outputs": [
    {
     "name": "stdout",
     "output_type": "stream",
     "text": [
      "precision : 0.896458\n",
      "recall : 0.636364\n",
      "accuracy : 0.623333\n",
      "balacned accuracy : 0.589266\n",
      "F1 score : 0.744344\n"
     ]
    }
   ],
   "source": [
    "tp = 0\n",
    "fp = 0\n",
    "tn = 0\n",
    "fn = 0\n",
    "predict = reg.predict(X_tcga)\n",
    "for expect, real in zip(predict, Y_tcga_binary):\n",
    "    if expect < threshold_pdtc:\n",
    "        if real == 'response':\n",
    "            tp += 1\n",
    "        else:\n",
    "            fp += 1\n",
    "    else:\n",
    "        if real == 'response':\n",
    "            fn += 1\n",
    "        else:\n",
    "            tn += 1\n",
    "precision = tp / (tp + fp)\n",
    "recall = tp / (tp + fn)\n",
    "accuracy = (tp + tn) / (tp + fp + tn + fn)\n",
    "balanced_accuracy = (tp / (tp + fn) + tn / (tn + fp)) / 2\n",
    "F1 = 2 * (precision * recall) / (precision + recall)\n",
    "print('precision : %f\\nrecall : %f\\naccuracy : %f\\nbalacned accuracy : %f\\nF1 score : %f' % (precision, recall, accuracy, balanced_accuracy, F1))"
   ]
  },
  {
   "cell_type": "markdown",
   "id": "internal-candle",
   "metadata": {},
   "source": [
    "## 3.2 CCLE -> TCGA"
   ]
  },
  {
   "cell_type": "code",
   "execution_count": 32,
   "id": "urban-infrared",
   "metadata": {},
   "outputs": [],
   "source": [
    "X_train, X_test, Y_train, Y_test = train_test_split(X_ccle, Y_ccle, test_size=0.2)"
   ]
  },
  {
   "cell_type": "code",
   "execution_count": 33,
   "id": "quantitative-intensity",
   "metadata": {},
   "outputs": [
    {
     "data": {
      "text/plain": [
       "0.5887121692579464"
      ]
     },
     "execution_count": 33,
     "metadata": {},
     "output_type": "execute_result"
    }
   ],
   "source": [
    "reg = Ridge()\n",
    "reg.fit(X_train, Y_train)\n",
    "scores = reg.score(X_test, Y_test)\n",
    "scores"
   ]
  },
  {
   "cell_type": "code",
   "execution_count": 34,
   "id": "biological-swift",
   "metadata": {
    "scrolled": true
   },
   "outputs": [
    {
     "name": "stdout",
     "output_type": "stream",
     "text": [
      "precision : 0.877193\n",
      "recall : 0.483559\n",
      "accuracy : 0.496667\n",
      "balacned accuracy : 0.530936\n",
      "F1 score : 0.623441\n"
     ]
    }
   ],
   "source": [
    "tp = 0\n",
    "fp = 0\n",
    "tn = 0\n",
    "fn = 0\n",
    "predict = reg.predict(X_tcga)\n",
    "for expect, real in zip(predict, Y_tcga_binary):\n",
    "    if expect < threshold_ccle:\n",
    "        if real == 'response':\n",
    "            tp += 1\n",
    "        else:\n",
    "            fp += 1\n",
    "    else:\n",
    "        if real == 'response':\n",
    "            fn += 1\n",
    "        else:\n",
    "            tn += 1\n",
    "precision = tp / (tp + fp)\n",
    "recall = tp / (tp + fn)\n",
    "accuracy = (tp + tn) / (tp + fp + tn + fn)\n",
    "balanced_accuracy = (tp / (tp + fn) + tn / (tn + fp)) / 2\n",
    "F1 = 2 * (precision * recall) / (precision + recall)\n",
    "print('precision : %f\\nrecall : %f\\naccuracy : %f\\nbalacned accuracy : %f\\nF1 score : %f' % (precision, recall, accuracy, balanced_accuracy, F1))"
   ]
  },
  {
   "cell_type": "markdown",
   "id": "marked-myanmar",
   "metadata": {},
   "source": [
    "# 4. LASSO Regression"
   ]
  },
  {
   "cell_type": "markdown",
   "id": "federal-heater",
   "metadata": {},
   "source": [
    "## 4.1 PDTC -> TCGA"
   ]
  },
  {
   "cell_type": "code",
   "execution_count": 35,
   "id": "bizarre-category",
   "metadata": {},
   "outputs": [],
   "source": [
    "X_train, X_test, Y_train, Y_test = train_test_split(X_pdtc, Y_pdtc, test_size=0.2)"
   ]
  },
  {
   "cell_type": "code",
   "execution_count": 38,
   "id": "vertical-seven",
   "metadata": {},
   "outputs": [
    {
     "name": "stderr",
     "output_type": "stream",
     "text": [
      "C:\\Users\\sbi-student\\anaconda3\\envs\\torch_jupyter\\lib\\site-packages\\sklearn\\linear_model\\_coordinate_descent.py:530: ConvergenceWarning: Objective did not converge. You might want to increase the number of iterations. Duality gap: 0.03705727618036292, tolerance: 0.0046959580055879425\n",
      "  model = cd_fast.enet_coordinate_descent(\n"
     ]
    },
    {
     "data": {
      "text/plain": [
       "0.5219267940277483"
      ]
     },
     "execution_count": 38,
     "metadata": {},
     "output_type": "execute_result"
    }
   ],
   "source": [
    "reg = Lasso(alpha=0.0001)\n",
    "reg.fit(X_train, Y_train)\n",
    "scores = reg.score(X_test, Y_test)\n",
    "scores"
   ]
  },
  {
   "cell_type": "code",
   "execution_count": 39,
   "id": "finite-kingston",
   "metadata": {
    "scrolled": true
   },
   "outputs": [
    {
     "name": "stdout",
     "output_type": "stream",
     "text": [
      "precision : 0.882064\n",
      "recall : 0.694391\n",
      "accuracy : 0.656667\n",
      "balacned accuracy : 0.558039\n",
      "F1 score : 0.777056\n"
     ]
    }
   ],
   "source": [
    "tp = 0\n",
    "fp = 0\n",
    "tn = 0\n",
    "fn = 0\n",
    "predict = reg.predict(X_tcga)\n",
    "for expect, real in zip(predict, Y_tcga_binary):\n",
    "    if expect < threshold_pdtc:\n",
    "        if real == 'response':\n",
    "            tp += 1\n",
    "        else:\n",
    "            fp += 1\n",
    "    else:\n",
    "        if real == 'response':\n",
    "            fn += 1\n",
    "        else:\n",
    "            tn += 1\n",
    "precision = tp / (tp + fp)\n",
    "recall = tp / (tp + fn)\n",
    "accuracy = (tp + tn) / (tp + fp + tn + fn)\n",
    "balanced_accuracy = (tp / (tp + fn) + tn / (tn + fp)) / 2\n",
    "F1 = 2 * (precision * recall) / (precision + recall)\n",
    "print('precision : %f\\nrecall : %f\\naccuracy : %f\\nbalacned accuracy : %f\\nF1 score : %f' % (precision, recall, accuracy, balanced_accuracy, F1))"
   ]
  },
  {
   "cell_type": "markdown",
   "id": "dried-incident",
   "metadata": {},
   "source": [
    "## 4.2 CCLE -> TCGA"
   ]
  },
  {
   "cell_type": "code",
   "execution_count": 40,
   "id": "expected-passion",
   "metadata": {},
   "outputs": [],
   "source": [
    "X_train, X_test, Y_train, Y_test = train_test_split(X_ccle, Y_ccle, test_size=0.2)"
   ]
  },
  {
   "cell_type": "code",
   "execution_count": 41,
   "id": "prospective-albania",
   "metadata": {},
   "outputs": [
    {
     "name": "stderr",
     "output_type": "stream",
     "text": [
      "C:\\Users\\sbi-student\\anaconda3\\envs\\torch_jupyter\\lib\\site-packages\\sklearn\\linear_model\\_coordinate_descent.py:530: ConvergenceWarning: Objective did not converge. You might want to increase the number of iterations. Duality gap: 29.77424863728504, tolerance: 0.1891684308902691\n",
      "  model = cd_fast.enet_coordinate_descent(\n"
     ]
    },
    {
     "data": {
      "text/plain": [
       "0.5215656788564855"
      ]
     },
     "execution_count": 41,
     "metadata": {},
     "output_type": "execute_result"
    }
   ],
   "source": [
    "reg = Lasso(alpha=0.0001)\n",
    "reg.fit(X_train, Y_train)\n",
    "scores = reg.score(X_test, Y_test)\n",
    "scores"
   ]
  },
  {
   "cell_type": "code",
   "execution_count": 42,
   "id": "comprehensive-institution",
   "metadata": {
    "scrolled": true
   },
   "outputs": [
    {
     "name": "stdout",
     "output_type": "stream",
     "text": [
      "precision : 0.877193\n",
      "recall : 0.483559\n",
      "accuracy : 0.496667\n",
      "balacned accuracy : 0.530936\n",
      "F1 score : 0.623441\n"
     ]
    }
   ],
   "source": [
    "tp = 0\n",
    "fp = 0\n",
    "tn = 0\n",
    "fn = 0\n",
    "predict = reg.predict(X_tcga)\n",
    "for expect, real in zip(predict, Y_tcga_binary):\n",
    "    if expect < threshold_ccle:\n",
    "        if real == 'response':\n",
    "            tp += 1\n",
    "        else:\n",
    "            fp += 1\n",
    "    else:\n",
    "        if real == 'response':\n",
    "            fn += 1\n",
    "        else:\n",
    "            tn += 1\n",
    "precision = tp / (tp + fp)\n",
    "recall = tp / (tp + fn)\n",
    "accuracy = (tp + tn) / (tp + fp + tn + fn)\n",
    "balanced_accuracy = (tp / (tp + fn) + tn / (tn + fp)) / 2\n",
    "F1 = 2 * (precision * recall) / (precision + recall)\n",
    "print('precision : %f\\nrecall : %f\\naccuracy : %f\\nbalacned accuracy : %f\\nF1 score : %f' % (precision, recall, accuracy, balanced_accuracy, F1))"
   ]
  },
  {
   "cell_type": "code",
   "execution_count": 43,
   "id": "least-lancaster",
   "metadata": {},
   "outputs": [
    {
     "name": "stdout",
     "output_type": "stream",
     "text": [
      "precision : 0.861667\n",
      "recall : 1.000000\n",
      "accuracy : 0.861667\n",
      "balacned accuracy : 0.500000\n",
      "F1 score : 0.925694\n"
     ]
    }
   ],
   "source": [
    "tp = 0\n",
    "fp = 0\n",
    "tn = 0\n",
    "fn = 0\n",
    "for real in Y_tcga_binary:\n",
    "    if real == 'response':\n",
    "        tp += 1\n",
    "    else:\n",
    "        fp += 1\n",
    "precision = tp / (tp + fp)\n",
    "recall = tp / (tp + fn)\n",
    "accuracy = (tp + tn) / (tp + fp + tn + fn)\n",
    "balanced_accuracy = (tp / (tp + fn) + tn / (tn + fp)) / 2\n",
    "F1 = 2 * (precision * recall) / (precision + recall)\n",
    "print('precision : %f\\nrecall : %f\\naccuracy : %f\\nbalacned accuracy : %f\\nF1 score : %f' % (precision, recall, accuracy, balanced_accuracy, F1))"
   ]
  },
  {
   "cell_type": "code",
   "execution_count": null,
   "id": "timely-shanghai",
   "metadata": {},
   "outputs": [],
   "source": []
  }
 ],
 "metadata": {
  "kernelspec": {
   "display_name": "Python 3",
   "language": "python",
   "name": "python3"
  },
  "language_info": {
   "codemirror_mode": {
    "name": "ipython",
    "version": 3
   },
   "file_extension": ".py",
   "mimetype": "text/x-python",
   "name": "python",
   "nbconvert_exporter": "python",
   "pygments_lexer": "ipython3",
   "version": "3.8.6"
  }
 },
 "nbformat": 4,
 "nbformat_minor": 5
}
